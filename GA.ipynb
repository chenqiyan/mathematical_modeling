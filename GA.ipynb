{
 "cells": [
  {
   "cell_type": "code",
   "execution_count": 10,
   "id": "d0560152",
   "metadata": {},
   "outputs": [],
   "source": [
    "import joblib\n",
    "import pandas as pd\n",
    "import numpy as np\n",
    "import time\n"
   ]
  },
  {
   "cell_type": "code",
   "execution_count": 11,
   "id": "611d1af3",
   "metadata": {},
   "outputs": [],
   "source": [
    "class GeneticGroup:\n",
    "    def __init__(self,vector_reg,vector_clf,vector_v_index,dna_size,pd_variables_range,\n",
    "                n_pop=500,crossover_rate=0.5,mutation_rate=0.1,\n",
    "                n_generations=50,model_r=np.max,\n",
    "                 model_c1=np.min,\n",
    "                 model_c2=np.min,\n",
    "                 model_c3=np.min,\n",
    "                 model_c4=np.min,\n",
    "                 model_c5=np.min):\n",
    "        self.v_r=vector_reg\n",
    "        self.v_g=vector_clf\n",
    "        self,vvi=vector_v_index\n",
    "        self.m_reg=model_r\n",
    "        self.m_c1=model_c1\n",
    "        self.m_c2=model_c2\n",
    "        self.m_c3=model_c3\n",
    "        self.m_c4=model_c4\n",
    "        self.m_c5=model_c5\n",
    "        self.ds = dna_size  #用几个位的二进制编码\n",
    "        self.np = n_pop\n",
    "        self.cr = crossover_rate\n",
    "        self.mr = mutation_rate\n",
    "        self.ng = n_generations\n",
    "        self.pvr = pd_variables_range#变量范围\n",
    "        self.nv =len(self.pvr)\n",
    "        self.pop = np.random.randint(2, size=(self.np, self.ds * self.nv))\n",
    "        #把数组A组合成长度为种群数量的数组\n",
    "        self.x=np.tile(vector_reg,self.np).reshape(self.np,-1)\n",
    "        self.x_clf=np.tile(vector_clf,self.np).reshape(self.np,-1)\n",
    "    #解码\n",
    "    def translateDNA(self):\n",
    "        pop=self.pop#种群数量\n",
    "        data_x=np.zeros((self.np,self.nv))\n",
    "        for i in range(self.nv):\n",
    "            pop_x=pop[:,i::self.nv]#切片  取出每个变量的编码\n",
    "            data_x[:,i]=float(self.pvr['min'][i])+ \\\n",
    "            float(self.pvr['max'][i]-self.pvr['min'][i])* \\\n",
    "            pop_x.dot(2**np.range(self.ds)[::-1])/float(2**self.ds-1)\n",
    "        self.x=data_x\n",
    "        self.x_clf[:,self.vvi]=self.x\n",
    "        return self.x,self.x_clf\n",
    "    \n",
    "                              \n",
    "    #计算适应度    此处为目标函数  活性值*AMET数                 \n",
    "    def get_fitness(self):\n",
    "        data_x,data_xclf=self.translateDNA()\n",
    "        pred_reg= self.m_reg.predict(data_x)#回归预测\n",
    "        total_ADMET=self.m_c1.predict(data_xclf)+self.m_c2.predict(data_xclf)+ \\\n",
    "        (self.m_c1.predict(data_xclf)^1)+ \\\n",
    "        self.m_c1.predict(data_xclf)+ \\\n",
    "        (self.m_c1.predict(data_xclf)^1)\n",
    "        fitness_Reg=pred_reg - np.min(pred_reg) + 1e-4\n",
    "        fitness_ADMET = (total_ADMET >= 4) * 1 + 1e-4\n",
    "        return fitness_Reg * fitness \n",
    "    \n",
    "    def select(self):\n",
    "        idx=np.random.choice(np.arange(self.np),size=self.np,\n",
    "                             replace=True,p=self.get_fitness()/np.sum(self.get_fitness()))\n",
    "        self.pop=self.pop[idx]\n",
    "    def mutation(self,vector):\n",
    "        if np.random.rand()<self.mr:\n",
    "            mutation_point=np.random.randint(0,self.ds*self.nv)\n",
    "            vector[mutation_point]=vector[mutation]^1#按位取反\n",
    "    def crossover_and_mutation(self):\n",
    "        pop=self.pop\n",
    "        for i in range(self.pop):\n",
    "            child=self.pop[i,:]\n",
    "            if np.random.rand()<self.cr:\n",
    "                mother=pop[np.random.randint(self.np)]\n",
    "                cross_points=np.random.randint(0,self.ds*self.nv)\n",
    "                child[cross_points:]=mother[cross_points:]\n",
    "            self.mutation(child)\n",
    "            pop[i,:]=child\n",
    "        self.pop=pop\n",
    "    def optimization(self):\n",
    "        zy=zeros(self.ng,self.nv)\n",
    "        for i in range(self.ng):\n",
    "            self.select()\n",
    "            self.crossover_and_mutation()\n",
    "            fitness=self.get_fitness()\n",
    "            if np.std(fitness)<=1e-5:\n",
    "                break\n",
    "            zy[i,:]=self.x[int(np.argmax(fitness)),:]\n",
    "        return self.x[int(np.argmax(fitness)),:],self.x_clf[int(np.argmax(fitness)),:],zy\n",
    "        "
   ]
  },
  {
   "cell_type": "code",
   "execution_count": 13,
   "id": "f44822fd",
   "metadata": {},
   "outputs": [],
   "source": [
    "#回归数据\n",
    "data_reg=pd.read_excel('./data/Molecular_Descriptor_20.xlsx',header=0)\n",
    "label_reg=pd.read_excel('./data/ERα_activity.xlsx',header=0)"
   ]
  },
  {
   "cell_type": "code",
   "execution_count": 19,
   "id": "79ecc6d8",
   "metadata": {},
   "outputs": [],
   "source": [
    "#分类数据\n",
    "data_clf=pd.read_excel('./data/Molecular_Descriptor_20.xlsx',header=0)\n",
    "label_clf=pd.read_excel('./data/ADMET.xlsx',header=0)\n",
    "Caco_2,CYP3A4,hERG,HOB,MN=label_clf.iloc[:,1],label_clf.iloc[:,2],label_clf.iloc[:,3], \\\n",
    "label_clf.iloc[:,4],label_clf.iloc[:,5]"
   ]
  },
  {
   "cell_type": "code",
   "execution_count": null,
   "id": "fee8a729",
   "metadata": {},
   "outputs": [],
   "source": [
    "#加载分类模型\n",
    "RF_clf_1 = joblib.load('./Classify/forest_clf_y1')\n"
   ]
  },
  {
   "cell_type": "code",
   "execution_count": null,
   "id": "00e1fbb5",
   "metadata": {},
   "outputs": [],
   "source": [
    "#加载预测模型"
   ]
  },
  {
   "cell_type": "code",
   "execution_count": 21,
   "id": "75fcd1aa",
   "metadata": {},
   "outputs": [
    {
     "data": {
      "text/plain": [
       "8"
      ]
     },
     "execution_count": 21,
     "metadata": {},
     "output_type": "execute_result"
    }
   ],
   "source": [
    "var=pd.read_excel(\"./data/Molecular_Descriptor_20.xlsx\")\n",
    "\n",
    "list_min=var.min()\n",
    "list_max=var.max()\n",
    "delta=list_max-list_min\n",
    "var_data={'min':list_min,'max':list_max,'delta':delta}\n",
    "var_range=pd.DataFrame(var_data)\n",
    "dna_size=int(np.ceil(np.log2(np.max((var_range['max']-var_range['min'])))))\n",
    "dna_size"
   ]
  },
  {
   "cell_type": "code",
   "execution_count": 29,
   "id": "82e1dcfb",
   "metadata": {},
   "outputs": [
    {
     "data": {
      "text/plain": [
       "(20,)"
      ]
     },
     "execution_count": 29,
     "metadata": {},
     "output_type": "execute_result"
    }
   ],
   "source": [
    "res=np.zeros((len(data_reg),len(data_reg.columns)+2)) #创建已优化的回归特征数据\n",
    "res_clf=np.zeros((len(data_clf),len(data_clf.columns)))\n",
    "res[i,:-2].shape"
   ]
  },
  {
   "cell_type": "code",
   "execution_count": 30,
   "id": "13b188d2",
   "metadata": {},
   "outputs": [
    {
     "name": "stdout",
     "output_type": "stream",
     "text": [
      "训练进度 0\n"
     ]
    },
    {
     "ename": "NameError",
     "evalue": "name 'vector_v_index' is not defined",
     "output_type": "error",
     "traceback": [
      "\u001b[1;31m---------------------------------------------------------------------------\u001b[0m",
      "\u001b[1;31mNameError\u001b[0m                                 Traceback (most recent call last)",
      "Input \u001b[1;32mIn [30]\u001b[0m, in \u001b[0;36m<cell line: 2>\u001b[1;34m()\u001b[0m\n\u001b[0;32m      2\u001b[0m \u001b[38;5;28;01mfor\u001b[39;00m i \u001b[38;5;129;01min\u001b[39;00m \u001b[38;5;28mrange\u001b[39m(\u001b[38;5;28mlen\u001b[39m(data_reg)):\n\u001b[0;32m      3\u001b[0m     \u001b[38;5;28mprint\u001b[39m(\u001b[38;5;124m'\u001b[39m\u001b[38;5;124m训练进度\u001b[39m\u001b[38;5;124m'\u001b[39m,i)\n\u001b[0;32m      4\u001b[0m     GG\u001b[38;5;241m=\u001b[39mGeneticGroup(np\u001b[38;5;241m.\u001b[39marray(data_reg\u001b[38;5;241m.\u001b[39miloc[i,:]),np\u001b[38;5;241m.\u001b[39marray(data_clf\u001b[38;5;241m.\u001b[39miloc[i,:]), \\\n\u001b[1;32m----> 5\u001b[0m     \u001b[43mvector_v_index\u001b[49m,dna_size,var_range,n_generations\u001b[38;5;241m=\u001b[39m\u001b[38;5;241m500\u001b[39m,model_r\u001b[38;5;241m=\u001b[39mRF_reg, \\\n\u001b[0;32m      6\u001b[0m     model_c1\u001b[38;5;241m=\u001b[39mRF_clf_1,model_c2\u001b[38;5;241m=\u001b[39mRF_clf_2,model_c3\u001b[38;5;241m=\u001b[39mRF_clf_3,model_c4\u001b[38;5;241m=\u001b[39mRF_clf_4, \\\n\u001b[0;32m      7\u001b[0m     model_c5\u001b[38;5;241m=\u001b[39mRF_clf_5)\n\u001b[0;32m      8\u001b[0m     res[i,:\u001b[38;5;241m-\u001b[39m\u001b[38;5;241m2\u001b[39m],res_clf[i,:],zy\u001b[38;5;241m=\u001b[39mGG\u001b[38;5;241m.\u001b[39moptimization()\n\u001b[0;32m      9\u001b[0m     res[i,\u001b[38;5;241m-\u001b[39m\u001b[38;5;241m2\u001b[39m]\u001b[38;5;241m=\u001b[39mRF_reg\u001b[38;5;241m.\u001b[39mpredict(res[i,:\u001b[38;5;241m-\u001b[39m\u001b[38;5;241m2\u001b[39m]\u001b[38;5;241m.\u001b[39mreshape(\u001b[38;5;241m1\u001b[39m,\u001b[38;5;241m-\u001b[39m\u001b[38;5;241m1\u001b[39m))\u001b[38;5;66;03m#行变成列\u001b[39;00m\n",
      "\u001b[1;31mNameError\u001b[0m: name 'vector_v_index' is not defined"
     ]
    }
   ],
   "source": [
    "t1=time.time()\n",
    "for i in range(len(data_reg)):\n",
    "    print('训练进度',i)\n",
    "    GG=GeneticGroup(np.array(data_reg.iloc[i,:]),np.array(data_clf.iloc[i,:]), \\\n",
    "    vector_v_index,dna_size,var_range,n_generations=500,model_r=RF_reg, \\\n",
    "    model_c1=RF_clf_1,model_c2=RF_clf_2,model_c3=RF_clf_3,model_c4=RF_clf_4, \\\n",
    "    model_c5=RF_clf_5)\n",
    "    res[i,:-2],res_clf[i,:],zy=GG.optimization()\n",
    "    res[i,-2]=RF_reg.predict(res[i,:-2].reshape(1,-1))#行变成列\n",
    "    res[i,-1]=RF_clf_1.predict(res[i,:-2].reshape(1,-1))+ \\\n",
    "               RF_clf_2.predict(res[i,:-2].reshape(1,-1))+ \\\n",
    "                (RF_clf_3.predict(res[i,:-2].reshape(1,-1)))^1+ \\\n",
    "                RF_clf_4.predict(res[i,:-2].reshape(1,-1))+ \\\n",
    "                (RF_clf_5.predict(res[i,:-2].reshape(1,-1)))^1\n",
    "    "
   ]
  },
  {
   "cell_type": "code",
   "execution_count": null,
   "id": "003cc212",
   "metadata": {},
   "outputs": [],
   "source": []
  }
 ],
 "metadata": {
  "kernelspec": {
   "display_name": "Python 3 (ipykernel)",
   "language": "python",
   "name": "python3"
  },
  "language_info": {
   "codemirror_mode": {
    "name": "ipython",
    "version": 3
   },
   "file_extension": ".py",
   "mimetype": "text/x-python",
   "name": "python",
   "nbconvert_exporter": "python",
   "pygments_lexer": "ipython3",
   "version": "3.10.4"
  }
 },
 "nbformat": 4,
 "nbformat_minor": 5
}
