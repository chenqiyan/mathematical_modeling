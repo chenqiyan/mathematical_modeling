{
 "cells": [
  {
   "cell_type": "code",
   "execution_count": 1,
   "id": "17c7901c",
   "metadata": {},
   "outputs": [],
   "source": [
    "import pandas as pd\n",
    "import matplotlib.pyplot as plt\n",
    "import numpy as np\n",
    "from sklearn.ensemble import RandomForestClassifier"
   ]
  },
  {
   "cell_type": "code",
   "execution_count": 2,
   "id": "19e31002",
   "metadata": {},
   "outputs": [
    {
     "name": "stdout",
     "output_type": "stream",
     "text": [
      "(1974, 403)\n"
     ]
    }
   ],
   "source": [
    "#自变量数据集\n",
    "Molecular_Descriptor=pd.read_excel('./data/test.xlsx',header=0)\n",
    "Molecular_Descriptor=Molecular_Descriptor.iloc[:,1:]\n",
    "print(Molecular_Descriptor.shape)"
   ]
  },
  {
   "cell_type": "code",
   "execution_count": 3,
   "id": "d6c393cf",
   "metadata": {},
   "outputs": [],
   "source": [
    "#因变量数据集\n",
    "\n",
    "ERa_activity=pd.read_excel('./data/ERα_activity.xlsx',header=0)\n",
    "ERa_activity=ERa_activity.iloc[:,2]"
   ]
  },
  {
   "cell_type": "code",
   "execution_count": 4,
   "id": "ad43d939",
   "metadata": {},
   "outputs": [
    {
     "data": {
      "text/plain": [
       "(403,)"
      ]
     },
     "execution_count": 4,
     "metadata": {},
     "output_type": "execute_result"
    }
   ],
   "source": [
    "#随机森林降维\n",
    "rnd_clf = RandomForestClassifier(n_estimators=500, n_jobs=-1, random_state=42)\n",
    "rnd_clf.fit(Molecular_Descriptor, ERa_activity.astype('int'))\n",
    "rnd_clf.feature_importances_.shape"
   ]
  },
  {
   "cell_type": "code",
   "execution_count": 5,
   "id": "eef6a60c",
   "metadata": {},
   "outputs": [],
   "source": [
    "#显示中文\n",
    "import matplotlib as mpl\n",
    "mpl.rcParams['font.sans-serif'] = [u'SimHei']\n",
    "mpl.rcParams['axes.unicode_minus'] = False"
   ]
  },
  {
   "cell_type": "code",
   "execution_count": 15,
   "id": "f7b016cd",
   "metadata": {},
   "outputs": [
    {
     "data": {
      "text/plain": [
       "<Figure size 720x396 with 0 Axes>"
      ]
     },
     "metadata": {},
     "output_type": "display_data"
    }
   ],
   "source": [
    "plt.figure(figsize=(10,5.5))\n",
    "x_data=rnd_clf.feature_importances_\n"
   ]
  },
  {
   "cell_type": "code",
   "execution_count": 16,
   "id": "4bb8c658",
   "metadata": {},
   "outputs": [
    {
     "data": {
      "image/png": "[encoded data removed]",
      "text/plain": [
       "<Figure size 432x288 with 1 Axes>"
      ]
     },
     "metadata": {
      "needs_background": "light"
     },
     "output_type": "display_data"
    }
   ],
   "source": [
    "plt.xlabel('特征',labelpad=19)\n",
    "\n",
    "plt.ylabel('贡献率',labelpad=10)\n",
    "plt.title('随机森林测得各个特征的贡献率', fontsize=22)\n",
    "x=np.arange(0,20)\n",
    "#plt.show()\n",
    "\n",
    "#返回数组值从小到大的索引\n",
    "indices_sorted=np.argsort(x_data)[::-1]\n",
    "Molecular_Descriptor_20=indices_sorted[:20]\n",
    "plt.plot(x,x_data[indices_sorted[:20]])\n",
    "plt.show()"
   ]
  },
  {
   "cell_type": "code",
   "execution_count": 17,
   "id": "5ac42f79",
   "metadata": {},
   "outputs": [
    {
     "data": {
      "text/plain": [
       "array([ 36, 356, 285, 180, 249, 274, 155, 396, 336, 283, 202, 276,  19,\n",
       "        18, 366, 401,  37,  20,  21, 227], dtype=int64)"
      ]
     },
     "execution_count": 17,
     "metadata": {},
     "output_type": "execute_result"
    }
   ],
   "source": [
    "Molecular_Descriptor_20"
   ]
  },
  {
   "cell_type": "code",
   "execution_count": 18,
   "id": "7558e125",
   "metadata": {},
   "outputs": [
    {
     "data": {
      "text/plain": [
       "BCUTc-1l  0      -0.360525\n",
       "          1      -0.360530\n",
       "          2      -0.361379\n",
       "          3      -0.360530\n",
       "          4      -0.360530\n",
       "                    ...   \n",
       "minsOH    1969    9.808143\n",
       "          1970    9.696786\n",
       "          1971    9.645181\n",
       "          1972    9.668706\n",
       "          1973    9.793792\n",
       "Length: 39480, dtype: float64"
      ]
     },
     "execution_count": 18,
     "metadata": {},
     "output_type": "execute_result"
    }
   ],
   "source": [
    "data_20=pd.DataFrame(Molecular_Descriptor.iloc[:,Molecular_Descriptor_20])\n",
    "data_20.unstack()"
   ]
  },
  {
   "cell_type": "code",
   "execution_count": 19,
   "id": "b25ce6fb",
   "metadata": {},
   "outputs": [
    {
     "data": {
      "text/plain": [
       "(1974,)"
      ]
     },
     "execution_count": 19,
     "metadata": {},
     "output_type": "execute_result"
    }
   ],
   "source": [
    "X=Molecular_Descriptor.iloc[:,Molecular_Descriptor_20]\n",
    "X.shape\n",
    "y=ERa_activity\n",
    "y.shape"
   ]
  },
  {
   "cell_type": "code",
   "execution_count": 20,
   "id": "21a74e48",
   "metadata": {},
   "outputs": [],
   "source": [
    "\n",
    "from sklearn import preprocessing\n",
    "from sklearn.ensemble import RandomForestClassifier\n",
    "from sklearn.ensemble import RandomForestRegressor\n",
    "from sklearn import metrics\n",
    "\n",
    "mpl.rc('axes', labelsize=14)\n",
    "mpl.rc('xtick', labelsize=12)\n",
    "mpl.rc('ytick', labelsize=12)\n",
    "mpl.rcParams['font.sans-serif'] = [u'SimHei']\n",
    "mpl.rcParams['axes.unicode_minus'] = False\n",
    "import numpy as np\n",
    "from math import sqrt"
   ]
  },
  {
   "cell_type": "code",
   "execution_count": 7,
   "id": "c66c4a25",
   "metadata": {},
   "outputs": [],
   "source": [
    "#均方误差\n",
    "def mean_squared_error(y_true,y_predict):\n",
    "    return np.sum((y_true-y_predict)**2/len(y_true))\n"
   ]
  },
  {
   "cell_type": "code",
   "execution_count": 8,
   "id": "e97352fa",
   "metadata": {},
   "outputs": [],
   "source": [
    "#均方根误差 RMSE\n",
    "def root_mean_squared_error(y_true,y_predict):\n",
    "    return sqrt(mean_squared_error(y_true,y_predict))\n"
   ]
  },
  {
   "cell_type": "code",
   "execution_count": 9,
   "id": "55d98719",
   "metadata": {},
   "outputs": [],
   "source": [
    "def mean_absolute_error(y_true,y_predict):\n",
    "    return np.sum(np.absolute(y_true-y_predict))/len(y_true)"
   ]
  },
  {
   "cell_type": "code",
   "execution_count": 10,
   "id": "bec48be4",
   "metadata": {},
   "outputs": [],
   "source": [
    "def r_square(y_true,y_predict):\n",
    "    return 1-mean_squared_error(y_true,y_predict)/np.var(y_true)\n",
    "\n"
   ]
  },
  {
   "cell_type": "code",
   "execution_count": 21,
   "id": "babc08f1",
   "metadata": {},
   "outputs": [],
   "source": [
    "from sklearn.model_selection import train_test_split\n",
    "from sklearn.svm import SVR\n",
    "from sklearn.model_selection import RandomizedSearchCV\n",
    "#将数据处理成导数\n",
    "from scipy.stats import reciprocal, uniform\n",
    "\n",
    "#划分数据集\n",
    "X_train,X_val,y_train,y_val=train_test_split(X,y,test_size=0.2,random_state=49)"
   ]
  },
  {
   "cell_type": "code",
   "execution_count": 34,
   "id": "92478168",
   "metadata": {},
   "outputs": [
    {
     "name": "stdout",
     "output_type": "stream",
     "text": [
      "Fitting 5 folds for each of 100 candidates, totalling 500 fits\n",
      "[CV] END ....C=4.745401188473625, gamma=0.008927180304353625; total time=   0.0s\n",
      "[CV] END ....C=4.745401188473625, gamma=0.008927180304353625; total time=   0.0s\n",
      "[CV] END ....C=4.745401188473625, gamma=0.008927180304353625; total time=   0.0s\n",
      "[CV] END ....C=4.745401188473625, gamma=0.008927180304353625; total time=   0.0s\n",
      "[CV] END ....C=4.745401188473625, gamma=0.008927180304353625; total time=   0.0s\n",
      "[CV] END ....C=8.31993941811405, gamma=0.0039687933304443715; total time=   0.0s\n",
      "[CV] END ....C=8.31993941811405, gamma=0.0039687933304443715; total time=   0.0s\n",
      "[CV] END ....C=8.31993941811405, gamma=0.0039687933304443715; total time=   0.0s\n",
      "[CV] END ....C=8.31993941811405, gamma=0.0039687933304443715; total time=   0.0s\n",
      "[CV] END ....C=8.31993941811405, gamma=0.0039687933304443715; total time=   0.0s\n",
      "[CV] END ...C=2.560186404424365, gamma=0.0014321698289111516; total time=   0.0s\n",
      "[CV] END ...C=2.560186404424365, gamma=0.0014321698289111516; total time=   0.0s\n",
      "[CV] END ...C=2.560186404424365, gamma=0.0014321698289111516; total time=   0.0s\n",
      "[CV] END ...C=2.560186404424365, gamma=0.0014321698289111516; total time=   0.0s\n",
      "[CV] END ...C=2.560186404424365, gamma=0.0014321698289111516; total time=   0.0s\n",
      "[CV] END ...C=1.5808361216819946, gamma=0.007348118405270448; total time=   0.0s\n",
      "[CV] END ...C=1.5808361216819946, gamma=0.007348118405270448; total time=   0.0s\n",
      "[CV] END ...C=1.5808361216819946, gamma=0.007348118405270448; total time=   0.0s\n",
      "[CV] END ...C=1.5808361216819946, gamma=0.007348118405270448; total time=   0.0s\n",
      "[CV] END ...C=1.5808361216819946, gamma=0.007348118405270448; total time=   0.0s\n",
      "[CV] END ....C=7.011150117432088, gamma=0.005105903209394755; total time=   0.0s\n",
      "[CV] END ....C=7.011150117432088, gamma=0.005105903209394755; total time=   0.0s\n",
      "[CV] END ....C=7.011150117432088, gamma=0.005105903209394755; total time=   0.0s\n",
      "[CV] END ....C=7.011150117432088, gamma=0.005105903209394755; total time=   0.0s\n",
      "[CV] END ....C=7.011150117432088, gamma=0.005105903209394755; total time=   0.0s\n",
      "[CV] END ...C=1.2058449429580245, gamma=0.009330606024425665; total time=   0.0s\n",
      "[CV] END ...C=1.2058449429580245, gamma=0.009330606024425665; total time=   0.0s\n",
      "[CV] END ...C=1.2058449429580245, gamma=0.009330606024425665; total time=   0.0s\n",
      "[CV] END ...C=1.2058449429580245, gamma=0.009330606024425665; total time=   0.0s\n",
      "[CV] END ...C=1.2058449429580245, gamma=0.009330606024425665; total time=   0.0s\n",
      "[CV] END ....C=9.324426408004218, gamma=0.001630568734622147; total time=   0.0s\n",
      "[CV] END ....C=9.324426408004218, gamma=0.001630568734622147; total time=   0.0s\n",
      "[CV] END ....C=9.324426408004218, gamma=0.001630568734622147; total time=   0.0s\n",
      "[CV] END ....C=9.324426408004218, gamma=0.001630568734622147; total time=   0.0s\n",
      "[CV] END ....C=9.324426408004218, gamma=0.001630568734622147; total time=   0.0s\n",
      "[CV] END ...C=2.818249672071006, gamma=0.0015254729458052607; total time=   0.0s\n",
      "[CV] END ...C=2.818249672071006, gamma=0.0015254729458052607; total time=   0.0s\n",
      "[CV] END ...C=2.818249672071006, gamma=0.0015254729458052607; total time=   0.0s\n",
      "[CV] END ...C=2.818249672071006, gamma=0.0015254729458052607; total time=   0.0s\n",
      "[CV] END ...C=2.818249672071006, gamma=0.0015254729458052607; total time=   0.0s\n",
      "[CV] END ....C=4.042422429595377, gamma=0.003347776308515933; total time=   0.0s\n",
      "[CV] END ....C=4.042422429595377, gamma=0.003347776308515933; total time=   0.0s\n",
      "[CV] END ....C=4.042422429595377, gamma=0.003347776308515933; total time=   0.0s\n",
      "[CV] END ....C=4.042422429595377, gamma=0.003347776308515933; total time=   0.0s\n",
      "[CV] END ....C=4.042422429595377, gamma=0.003347776308515933; total time=   0.0s\n",
      "[CV] END ...C=5.319450186421157, gamma=0.0019553708662745244; total time=   0.0s\n",
      "[CV] END ...C=5.319450186421157, gamma=0.0019553708662745244; total time=   0.0s\n",
      "[CV] END ...C=5.319450186421157, gamma=0.0019553708662745244; total time=   0.0s\n",
      "[CV] END ...C=5.319450186421157, gamma=0.0019553708662745244; total time=   0.0s\n",
      "[CV] END ...C=5.319450186421157, gamma=0.0019553708662745244; total time=   0.0s\n",
      "[CV] END ...C=7.118528947223795, gamma=0.0013787764619353766; total time=   0.0s\n",
      "[CV] END ...C=7.118528947223795, gamma=0.0013787764619353766; total time=   0.0s\n",
      "[CV] END ...C=7.118528947223795, gamma=0.0013787764619353766; total time=   0.0s\n",
      "[CV] END ...C=7.118528947223795, gamma=0.0013787764619353766; total time=   0.0s\n",
      "[CV] END ...C=7.118528947223795, gamma=0.0013787764619353766; total time=   0.0s\n",
      "[CV] END ...C=3.9214464853521815, gamma=0.002324672848950434; total time=   0.0s\n",
      "[CV] END ...C=3.9214464853521815, gamma=0.002324672848950434; total time=   0.0s\n",
      "[CV] END ...C=3.9214464853521815, gamma=0.002324672848950434; total time=   0.0s\n",
      "[CV] END ...C=3.9214464853521815, gamma=0.002324672848950434; total time=   0.0s\n",
      "[CV] END ...C=3.9214464853521815, gamma=0.002324672848950434; total time=   0.0s\n",
      "[CV] END .....C=5.56069984217036, gamma=0.006097839109531512; total time=   0.0s\n",
      "[CV] END .....C=5.56069984217036, gamma=0.006097839109531512; total time=   0.0s\n",
      "[CV] END .....C=5.56069984217036, gamma=0.006097839109531512; total time=   0.0s\n",
      "[CV] END .....C=5.56069984217036, gamma=0.006097839109531512; total time=   0.0s\n",
      "[CV] END .....C=5.56069984217036, gamma=0.006097839109531512; total time=   0.0s\n",
      "[CV] END ...C=2.996737821583597, gamma=0.0032676417657817613; total time=   0.0s\n",
      "[CV] END ...C=2.996737821583597, gamma=0.0032676417657817613; total time=   0.0s\n",
      "[CV] END ...C=2.996737821583597, gamma=0.0032676417657817613; total time=   0.0s\n",
      "[CV] END ...C=2.996737821583597, gamma=0.0032676417657817613; total time=   0.0s\n",
      "[CV] END ...C=2.996737821583597, gamma=0.0032676417657817613; total time=   0.0s\n",
      "[CV] END ...C=6.924145688620425, gamma=0.0011128853174905728; total time=   0.0s\n",
      "[CV] END ...C=6.924145688620425, gamma=0.0011128853174905728; total time=   0.0s\n",
      "[CV] END ...C=6.924145688620425, gamma=0.0011128853174905728; total time=   0.0s\n",
      "[CV] END ...C=6.924145688620425, gamma=0.0011128853174905728; total time=   0.0s\n",
      "[CV] END ...C=6.924145688620425, gamma=0.0011128853174905728; total time=   0.0s\n",
      "[CV] END ...C=7.075448519014383, gamma=0.0014808945119975186; total time=   0.0s\n",
      "[CV] END ...C=7.075448519014383, gamma=0.0014808945119975186; total time=   0.0s\n",
      "[CV] END ...C=7.075448519014383, gamma=0.0014808945119975186; total time=   0.0s\n",
      "[CV] END ...C=7.075448519014383, gamma=0.0014808945119975186; total time=   0.0s\n",
      "[CV] END ...C=7.075448519014383, gamma=0.0014808945119975186; total time=   0.0s\n",
      "[CV] END ...C=1.6505159298527952, gamma=0.008889667907018927; total time=   0.0s\n",
      "[CV] END ...C=1.6505159298527952, gamma=0.008889667907018927; total time=   0.0s\n",
      "[CV] END ...C=1.6505159298527952, gamma=0.008889667907018927; total time=   0.0s\n",
      "[CV] END ...C=1.6505159298527952, gamma=0.008889667907018927; total time=   0.0s\n",
      "[CV] END ...C=1.6505159298527952, gamma=0.008889667907018927; total time=   0.0s\n",
      "[CV] END ...C=10.656320330745594, gamma=0.006432759992849892; total time=   0.0s\n",
      "[CV] END ...C=10.656320330745594, gamma=0.006432759992849892; total time=   0.0s\n",
      "[CV] END ...C=10.656320330745594, gamma=0.006432759992849892; total time=   0.0s\n",
      "[CV] END ...C=10.656320330745594, gamma=0.006432759992849892; total time=   0.0s\n",
      "[CV] END ...C=10.656320330745594, gamma=0.006432759992849892; total time=   0.0s\n",
      "[CV] END ...C=4.046137691733707, gamma=0.0012521954287060388; total time=   0.0s\n",
      "[CV] END ...C=4.046137691733707, gamma=0.0012521954287060388; total time=   0.0s\n",
      "[CV] END ...C=4.046137691733707, gamma=0.0012521954287060388; total time=   0.0s\n",
      "[CV] END ...C=4.046137691733707, gamma=0.0012521954287060388; total time=   0.0s\n",
      "[CV] END ...C=4.046137691733707, gamma=0.0012521954287060388; total time=   0.0s\n",
      "[CV] END ....C=7.842330265121569, gamma=0.002755195964951076; total time=   0.0s\n",
      "[CV] END ....C=7.842330265121569, gamma=0.002755195964951076; total time=   0.0s\n",
      "[CV] END ....C=7.842330265121569, gamma=0.002755195964951076; total time=   0.0s\n",
      "[CV] END ....C=7.842330265121569, gamma=0.002755195964951076; total time=   0.0s\n",
      "[CV] END ....C=7.842330265121569, gamma=0.002755195964951076; total time=   0.0s\n",
      "[CV] END ..C=2.2203823484477883, gamma=0.0031273530367803702; total time=   0.0s\n"
     ]
    },
    {
     "name": "stdout",
     "output_type": "stream",
     "text": [
      "[CV] END ..C=2.2203823484477883, gamma=0.0031273530367803702; total time=   0.0s\n",
      "[CV] END ..C=2.2203823484477883, gamma=0.0031273530367803702; total time=   0.0s\n",
      "[CV] END ..C=2.2203823484477883, gamma=0.0031273530367803702; total time=   0.0s\n",
      "[CV] END ..C=2.2203823484477883, gamma=0.0031273530367803702; total time=   0.0s\n",
      "[CV] END ......C=1.343885211152184, gamma=0.0081155956759705; total time=   0.0s\n",
      "[CV] END ......C=1.343885211152184, gamma=0.0081155956759705; total time=   0.0s\n",
      "[CV] END ......C=1.343885211152184, gamma=0.0081155956759705; total time=   0.0s\n",
      "[CV] END ......C=1.343885211152184, gamma=0.0081155956759705; total time=   0.0s\n",
      "[CV] END ......C=1.343885211152184, gamma=0.0081155956759705; total time=   0.0s\n",
      "[CV] END ....C=3.587799816000169, gamma=0.004597505784732165; total time=   0.0s\n",
      "[CV] END ....C=3.587799816000169, gamma=0.004597505784732165; total time=   0.0s\n",
      "[CV] END ....C=3.587799816000169, gamma=0.004597505784732165; total time=   0.0s\n",
      "[CV] END ....C=3.587799816000169, gamma=0.004597505784732165; total time=   0.0s\n",
      "[CV] END ....C=3.587799816000169, gamma=0.004597505784732165; total time=   0.0s\n",
      "[CV] END .....C=4.11711076089411, gamma=0.003311829888072381; total time=   0.0s\n",
      "[CV] END .....C=4.11711076089411, gamma=0.003311829888072381; total time=   0.0s\n",
      "[CV] END .....C=4.11711076089411, gamma=0.003311829888072381; total time=   0.0s\n",
      "[CV] END .....C=4.11711076089411, gamma=0.003311829888072381; total time=   0.0s\n",
      "[CV] END .....C=4.11711076089411, gamma=0.003311829888072381; total time=   0.0s\n",
      "[CV] END ..C=6.4671027934327965, gamma=0.0015305744365500175; total time=   0.0s\n",
      "[CV] END ..C=6.4671027934327965, gamma=0.0015305744365500175; total time=   0.0s\n",
      "[CV] END ..C=6.4671027934327965, gamma=0.0015305744365500175; total time=   0.0s\n",
      "[CV] END ..C=6.4671027934327965, gamma=0.0015305744365500175; total time=   0.0s\n",
      "[CV] END ..C=6.4671027934327965, gamma=0.0015305744365500175; total time=   0.0s\n",
      "[CV] END ...C=10.695846277645586, gamma=0.005958443469672517; total time=   0.0s\n",
      "[CV] END ...C=10.695846277645586, gamma=0.005958443469672517; total time=   0.0s\n",
      "[CV] END ...C=10.695846277645586, gamma=0.005958443469672517; total time=   0.0s\n",
      "[CV] END ...C=10.695846277645586, gamma=0.005958443469672517; total time=   0.0s\n",
      "[CV] END ...C=10.695846277645586, gamma=0.005958443469672517; total time=   0.0s\n",
      "[CV] END ...C=10.394989415641891, gamma=0.007849235338159358; total time=   0.0s\n",
      "[CV] END ...C=10.394989415641891, gamma=0.007849235338159358; total time=   0.0s\n",
      "[CV] END ...C=10.394989415641891, gamma=0.007849235338159358; total time=   0.0s\n",
      "[CV] END ...C=10.394989415641891, gamma=0.007849235338159358; total time=   0.0s\n",
      "[CV] END ...C=10.394989415641891, gamma=0.007849235338159358; total time=   0.0s\n",
      "[CV] END .....C=6.978999788110851, gamma=0.00835361075531176; total time=   0.0s\n",
      "[CV] END .....C=6.978999788110851, gamma=0.00835361075531176; total time=   0.0s\n",
      "[CV] END .....C=6.978999788110851, gamma=0.00835361075531176; total time=   0.0s\n",
      "[CV] END .....C=6.978999788110851, gamma=0.00835361075531176; total time=   0.0s\n",
      "[CV] END .....C=6.978999788110851, gamma=0.00835361075531176; total time=   0.0s\n",
      "[CV] END ...C=1.884925020519195, gamma=0.0015703008378806708; total time=   0.0s\n",
      "[CV] END ...C=1.884925020519195, gamma=0.0015703008378806708; total time=   0.0s\n",
      "[CV] END ...C=1.884925020519195, gamma=0.0015703008378806708; total time=   0.0s\n",
      "[CV] END ...C=1.884925020519195, gamma=0.0015703008378806708; total time=   0.0s\n",
      "[CV] END ...C=1.884925020519195, gamma=0.0015703008378806708; total time=   0.0s\n",
      "[CV] END ...C=1.4522728891053807, gamma=0.002115097202168558; total time=   0.0s\n",
      "[CV] END ...C=1.4522728891053807, gamma=0.002115097202168558; total time=   0.0s\n",
      "[CV] END ...C=1.4522728891053807, gamma=0.002115097202168558; total time=   0.0s\n",
      "[CV] END ...C=1.4522728891053807, gamma=0.002115097202168558; total time=   0.0s\n",
      "[CV] END ...C=1.4522728891053807, gamma=0.002115097202168558; total time=   0.0s\n",
      "[CV] END ....C=4.88677289689482, gamma=0.0018678802571070676; total time=   0.0s\n",
      "[CV] END ....C=4.88677289689482, gamma=0.0018678802571070676; total time=   0.0s\n",
      "[CV] END ....C=4.88677289689482, gamma=0.0018678802571070676; total time=   0.0s\n",
      "[CV] END ....C=4.88677289689482, gamma=0.0018678802571070676; total time=   0.0s\n",
      "[CV] END ....C=4.88677289689482, gamma=0.0018678802571070676; total time=   0.0s\n",
      "[CV] END ...C=9.287375091519294, gamma=0.0022738055735631816; total time=   0.0s\n",
      "[CV] END ...C=9.287375091519294, gamma=0.0022738055735631816; total time=   0.0s\n",
      "[CV] END ...C=9.287375091519294, gamma=0.0022738055735631816; total time=   0.0s\n",
      "[CV] END ...C=9.287375091519294, gamma=0.0022738055735631816; total time=   0.0s\n",
      "[CV] END ...C=9.287375091519294, gamma=0.0022738055735631816; total time=   0.0s\n",
      "[CV] END ...C=3.8093450968738076, gamma=0.003488960745139221; total time=   0.0s\n",
      "[CV] END ...C=3.8093450968738076, gamma=0.003488960745139221; total time=   0.0s\n",
      "[CV] END ...C=3.8093450968738076, gamma=0.003488960745139221; total time=   0.0s\n",
      "[CV] END ...C=3.8093450968738076, gamma=0.003488960745139221; total time=   0.0s\n",
      "[CV] END ...C=3.8093450968738076, gamma=0.003488960745139221; total time=   0.0s\n",
      "[CV] END ...C=2.4092422497476265, gamma=0.006341572775495277; total time=   0.0s\n",
      "[CV] END ...C=2.4092422497476265, gamma=0.006341572775495277; total time=   0.0s\n",
      "[CV] END ...C=2.4092422497476265, gamma=0.006341572775495277; total time=   0.0s\n",
      "[CV] END ...C=2.4092422497476265, gamma=0.006341572775495277; total time=   0.0s\n",
      "[CV] END ...C=2.4092422497476265, gamma=0.006341572775495277; total time=   0.0s\n",
      "[CV] END ...C=1.7455064367977082, gamma=0.009702573394120728; total time=   0.0s\n",
      "[CV] END ...C=1.7455064367977082, gamma=0.009702573394120728; total time=   0.0s\n",
      "[CV] END ...C=1.7455064367977082, gamma=0.009702573394120728; total time=   0.0s\n",
      "[CV] END ...C=1.7455064367977082, gamma=0.009702573394120728; total time=   0.0s\n",
      "[CV] END ...C=1.7455064367977082, gamma=0.009702573394120728; total time=   0.0s\n",
      "[CV] END ...C=8.722447692966574, gamma=0.0015802131864103882; total time=   0.0s\n",
      "[CV] END ...C=8.722447692966574, gamma=0.0015802131864103882; total time=   0.0s\n",
      "[CV] END ...C=8.722447692966574, gamma=0.0015802131864103882; total time=   0.0s\n",
      "[CV] END ...C=8.722447692966574, gamma=0.0015802131864103882; total time=   0.0s\n",
      "[CV] END ...C=8.722447692966574, gamma=0.0015802131864103882; total time=   0.0s\n",
      "[CV] END .....C=1.055221171236024, gamma=0.00653824858451804; total time=   0.0s\n",
      "[CV] END .....C=1.055221171236024, gamma=0.00653824858451804; total time=   0.0s\n",
      "[CV] END .....C=1.055221171236024, gamma=0.00653824858451804; total time=   0.0s\n",
      "[CV] END .....C=1.055221171236024, gamma=0.00653824858451804; total time=   0.0s\n",
      "[CV] END .....C=1.055221171236024, gamma=0.00653824858451804; total time=   0.0s\n",
      "[CV] END ....C=8.068573438476172, gamma=0.005358055009231864; total time=   0.0s\n",
      "[CV] END ....C=8.068573438476172, gamma=0.005358055009231864; total time=   0.0s\n",
      "[CV] END ....C=8.068573438476172, gamma=0.005358055009231864; total time=   0.0s\n",
      "[CV] END ....C=8.068573438476172, gamma=0.005358055009231864; total time=   0.0s\n",
      "[CV] END ....C=8.068573438476172, gamma=0.005358055009231864; total time=   0.0s\n",
      "[CV] END ...C=8.712703466859457, gamma=0.0011858906685575264; total time=   0.0s\n",
      "[CV] END ...C=8.712703466859457, gamma=0.0011858906685575264; total time=   0.0s\n",
      "[CV] END ...C=8.712703466859457, gamma=0.0011858906685575264; total time=   0.0s\n",
      "[CV] END ...C=8.712703466859457, gamma=0.0011858906685575264; total time=   0.0s\n",
      "[CV] END ...C=8.712703466859457, gamma=0.0011858906685575264; total time=   0.0s\n",
      "[CV] END ...C=4.584657285442726, gamma=0.0013057771348997226; total time=   0.0s\n",
      "[CV] END ...C=4.584657285442726, gamma=0.0013057771348997226; total time=   0.0s\n",
      "[CV] END ...C=4.584657285442726, gamma=0.0013057771348997226; total time=   0.0s\n",
      "[CV] END ...C=4.584657285442726, gamma=0.0013057771348997226; total time=   0.0s\n",
      "[CV] END ...C=4.584657285442726, gamma=0.0013057771348997226; total time=   0.0s\n",
      "[CV] END ....C=9.631034258755935, gamma=0.004200472316702199; total time=   0.0s\n",
      "[CV] END ....C=9.631034258755935, gamma=0.004200472316702199; total time=   0.0s\n",
      "[CV] END ....C=9.631034258755935, gamma=0.004200472316702199; total time=   0.0s\n",
      "[CV] END ....C=9.631034258755935, gamma=0.004200472316702199; total time=   0.0s\n"
     ]
    },
    {
     "name": "stdout",
     "output_type": "stream",
     "text": [
      "[CV] END ....C=9.631034258755935, gamma=0.004200472316702199; total time=   0.0s\n",
      "[CV] END ...C=4.308980248526492, gamma=0.0011575995526672772; total time=   0.0s\n",
      "[CV] END ...C=4.308980248526492, gamma=0.0011575995526672772; total time=   0.0s\n",
      "[CV] END ...C=4.308980248526492, gamma=0.0011575995526672772; total time=   0.0s\n",
      "[CV] END ...C=4.308980248526492, gamma=0.0011575995526672772; total time=   0.0s\n",
      "[CV] END ...C=4.308980248526492, gamma=0.0011575995526672772; total time=   0.0s\n",
      "[CV] END ....C=4.109823217156622, gamma=0.002114381362663436; total time=   0.0s\n",
      "[CV] END ....C=4.109823217156622, gamma=0.002114381362663436; total time=   0.0s\n",
      "[CV] END ....C=4.109823217156622, gamma=0.002114381362663436; total time=   0.0s\n",
      "[CV] END ....C=4.109823217156622, gamma=0.002114381362663436; total time=   0.0s\n",
      "[CV] END ....C=4.109823217156622, gamma=0.002114381362663436; total time=   0.0s\n",
      "[CV] END ....C=8.29606178338064, gamma=0.0043406770118893994; total time=   0.0s\n",
      "[CV] END ....C=8.29606178338064, gamma=0.0043406770118893994; total time=   0.0s\n",
      "[CV] END ....C=8.29606178338064, gamma=0.0043406770118893994; total time=   0.0s\n",
      "[CV] END ....C=8.29606178338064, gamma=0.0043406770118893994; total time=   0.0s\n",
      "[CV] END ....C=8.29606178338064, gamma=0.0043406770118893994; total time=   0.0s\n",
      "[CV] END ...C=9.872127425763265, gamma=0.0029662989987000662; total time=   0.0s\n",
      "[CV] END ...C=9.872127425763265, gamma=0.0029662989987000662; total time=   0.0s\n",
      "[CV] END ...C=9.872127425763265, gamma=0.0029662989987000662; total time=   0.0s\n",
      "[CV] END ...C=9.872127425763265, gamma=0.0029662989987000662; total time=   0.0s\n",
      "[CV] END ...C=9.872127425763265, gamma=0.0029662989987000662; total time=   0.0s\n",
      "[CV] END ....C=2.195942459383017, gamma=0.005167075260023274; total time=   0.0s\n",
      "[CV] END ....C=2.195942459383017, gamma=0.005167075260023274; total time=   0.0s\n",
      "[CV] END ....C=2.195942459383017, gamma=0.005167075260023274; total time=   0.0s\n",
      "[CV] END ....C=2.195942459383017, gamma=0.005167075260023274; total time=   0.0s\n",
      "[CV] END ....C=2.195942459383017, gamma=0.005167075260023274; total time=   0.0s\n",
      "[CV] END ....C=8.607850486168974, gamma=0.003641473866814994; total time=   0.0s\n",
      "[CV] END ....C=8.607850486168974, gamma=0.003641473866814994; total time=   0.0s\n",
      "[CV] END ....C=8.607850486168974, gamma=0.003641473866814994; total time=   0.0s\n",
      "[CV] END ....C=8.607850486168974, gamma=0.003641473866814994; total time=   0.0s\n",
      "[CV] END ....C=8.607850486168974, gamma=0.003641473866814994; total time=   0.0s\n",
      "[CV] END ....C=8.70967179954561, gamma=0.0031174220030046294; total time=   0.0s\n",
      "[CV] END ....C=8.70967179954561, gamma=0.0031174220030046294; total time=   0.0s\n",
      "[CV] END ....C=8.70967179954561, gamma=0.0031174220030046294; total time=   0.0s\n",
      "[CV] END ....C=8.70967179954561, gamma=0.0031174220030046294; total time=   0.0s\n",
      "[CV] END ....C=8.70967179954561, gamma=0.0031174220030046294; total time=   0.0s\n",
      "[CV] END ...C=6.227328293819941, gamma=0.0026763383567660758; total time=   0.0s\n",
      "[CV] END ...C=6.227328293819941, gamma=0.0026763383567660758; total time=   0.0s\n",
      "[CV] END ...C=6.227328293819941, gamma=0.0026763383567660758; total time=   0.0s\n",
      "[CV] END ...C=6.227328293819941, gamma=0.0026763383567660758; total time=   0.0s\n",
      "[CV] END ...C=6.227328293819941, gamma=0.0026763383567660758; total time=   0.0s\n",
      "[CV] END ..C=1.2541912674409519, gamma=0.0012820100418916899; total time=   0.0s\n",
      "[CV] END ..C=1.2541912674409519, gamma=0.0012820100418916899; total time=   0.0s\n",
      "[CV] END ..C=1.2541912674409519, gamma=0.0012820100418916899; total time=   0.0s\n",
      "[CV] END ..C=1.2541912674409519, gamma=0.0012820100418916899; total time=   0.0s\n",
      "[CV] END ..C=1.2541912674409519, gamma=0.0012820100418916899; total time=   0.0s\n",
      "[CV] END ..C=1.3142918568673425, gamma=0.0043292275275799135; total time=   0.0s\n",
      "[CV] END ..C=1.3142918568673425, gamma=0.0043292275275799135; total time=   0.0s\n",
      "[CV] END ..C=1.3142918568673425, gamma=0.0043292275275799135; total time=   0.0s\n",
      "[CV] END ..C=1.3142918568673425, gamma=0.0043292275275799135; total time=   0.0s\n",
      "[CV] END ..C=1.3142918568673425, gamma=0.0043292275275799135; total time=   0.0s\n",
      "[CV] END .....C=4.143559810763267, gamma=0.00322530426717912; total time=   0.0s\n",
      "[CV] END .....C=4.143559810763267, gamma=0.00322530426717912; total time=   0.0s\n",
      "[CV] END .....C=4.143559810763267, gamma=0.00322530426717912; total time=   0.0s\n",
      "[CV] END .....C=4.143559810763267, gamma=0.00322530426717912; total time=   0.0s\n",
      "[CV] END .....C=4.143559810763267, gamma=0.00322530426717912; total time=   0.0s\n",
      "[CV] END ...C=10.07566473926093, gamma=0.0017753837036522241; total time=   0.0s\n",
      "[CV] END ...C=10.07566473926093, gamma=0.0017753837036522241; total time=   0.0s\n",
      "[CV] END ...C=10.07566473926093, gamma=0.0017753837036522241; total time=   0.0s\n",
      "[CV] END ...C=10.07566473926093, gamma=0.0017753837036522241; total time=   0.0s\n",
      "[CV] END ...C=10.07566473926093, gamma=0.0017753837036522241; total time=   0.0s\n",
      "[CV] END ...C=5.103829230356297, gamma=0.0056957528815198425; total time=   0.0s\n",
      "[CV] END ...C=5.103829230356297, gamma=0.0056957528815198425; total time=   0.0s\n",
      "[CV] END ...C=5.103829230356297, gamma=0.0056957528815198425; total time=   0.0s\n",
      "[CV] END ...C=5.103829230356297, gamma=0.0056957528815198425; total time=   0.0s\n",
      "[CV] END ...C=5.103829230356297, gamma=0.0056957528815198425; total time=   0.0s\n",
      "[CV] END ..C=3.2879816549162246, gamma=0.0011939328726535438; total time=   0.0s\n",
      "[CV] END ..C=3.2879816549162246, gamma=0.0011939328726535438; total time=   0.0s\n",
      "[CV] END ..C=3.2879816549162246, gamma=0.0011939328726535438; total time=   0.0s\n",
      "[CV] END ..C=3.2879816549162246, gamma=0.0011939328726535438; total time=   0.0s\n",
      "[CV] END ..C=3.2879816549162246, gamma=0.0011939328726535438; total time=   0.0s\n",
      "[CV] END ...C=3.8975145291376805, gamma=0.001449510238325468; total time=   0.0s\n",
      "[CV] END ...C=3.8975145291376805, gamma=0.001449510238325468; total time=   0.0s\n",
      "[CV] END ...C=3.8975145291376805, gamma=0.001449510238325468; total time=   0.0s\n",
      "[CV] END ...C=3.8975145291376805, gamma=0.001449510238325468; total time=   0.0s\n",
      "[CV] END ...C=3.8975145291376805, gamma=0.001449510238325468; total time=   0.0s\n",
      "[CV] END ....C=10.29697652342573, gamma=0.006428658848831818; total time=   0.0s\n",
      "[CV] END ....C=10.29697652342573, gamma=0.006428658848831818; total time=   0.0s\n",
      "[CV] END ....C=10.29697652342573, gamma=0.006428658848831818; total time=   0.0s\n",
      "[CV] END ....C=10.29697652342573, gamma=0.006428658848831818; total time=   0.0s\n",
      "[CV] END ....C=10.29697652342573, gamma=0.006428658848831818; total time=   0.0s\n",
      "[CV] END ......C=7.334037565104235, gamma=0.0074380756343953; total time=   0.0s\n",
      "[CV] END ......C=7.334037565104235, gamma=0.0074380756343953; total time=   0.0s\n",
      "[CV] END ......C=7.334037565104235, gamma=0.0074380756343953; total time=   0.0s\n",
      "[CV] END ......C=7.334037565104235, gamma=0.0074380756343953; total time=   0.0s\n",
      "[CV] END ......C=7.334037565104235, gamma=0.0074380756343953; total time=   0.0s\n",
      "[CV] END ...C=9.036720768991145, gamma=0.0015366326576125018; total time=   0.0s\n",
      "[CV] END ...C=9.036720768991145, gamma=0.0015366326576125018; total time=   0.0s\n",
      "[CV] END ...C=9.036720768991145, gamma=0.0015366326576125018; total time=   0.0s\n",
      "[CV] END ...C=9.036720768991145, gamma=0.0015366326576125018; total time=   0.0s\n",
      "[CV] END ...C=9.036720768991145, gamma=0.0015366326576125018; total time=   0.0s\n",
      "[CV] END ....C=9.925589984899778, gamma=0.003462120997293592; total time=   0.0s\n",
      "[CV] END ....C=9.925589984899778, gamma=0.003462120997293592; total time=   0.0s\n",
      "[CV] END ....C=9.925589984899778, gamma=0.003462120997293592; total time=   0.0s\n",
      "[CV] END ....C=9.925589984899778, gamma=0.003462120997293592; total time=   0.0s\n",
      "[CV] END ....C=9.925589984899778, gamma=0.003462120997293592; total time=   0.0s\n",
      "[CV] END ....C=9.074401551640625, gamma=0.007872112644525066; total time=   0.0s\n",
      "[CV] END ....C=9.074401551640625, gamma=0.007872112644525066; total time=   0.0s\n",
      "[CV] END ....C=9.074401551640625, gamma=0.007872112644525066; total time=   0.0s\n",
      "[CV] END ....C=9.074401551640625, gamma=0.007872112644525066; total time=   0.0s\n",
      "[CV] END ....C=9.074401551640625, gamma=0.007872112644525066; total time=   0.0s\n",
      "[CV] END ...C=4.180034749718638, gamma=0.0012884035848463482; total time=   0.0s\n",
      "[CV] END ...C=4.180034749718638, gamma=0.0012884035848463482; total time=   0.0s\n"
     ]
    },
    {
     "name": "stdout",
     "output_type": "stream",
     "text": [
      "[CV] END ...C=4.180034749718638, gamma=0.0012884035848463482; total time=   0.0s\n",
      "[CV] END ...C=4.180034749718638, gamma=0.0012884035848463482; total time=   0.0s\n",
      "[CV] END ...C=4.180034749718638, gamma=0.0012884035848463482; total time=   0.0s\n",
      "[CV] END ...C=3.279351625419417, gamma=0.0026736699110984103; total time=   0.0s\n",
      "[CV] END ...C=3.279351625419417, gamma=0.0026736699110984103; total time=   0.0s\n",
      "[CV] END ...C=3.279351625419417, gamma=0.0026736699110984103; total time=   0.0s\n",
      "[CV] END ...C=3.279351625419417, gamma=0.0026736699110984103; total time=   0.0s\n",
      "[CV] END ...C=3.279351625419417, gamma=0.0026736699110984103; total time=   0.0s\n",
      "[CV] END ....C=9.18014765922493, gamma=0.0072565565367861806; total time=   0.0s\n",
      "[CV] END ....C=9.18014765922493, gamma=0.0072565565367861806; total time=   0.0s\n",
      "[CV] END ....C=9.18014765922493, gamma=0.0072565565367861806; total time=   0.0s\n",
      "[CV] END ....C=9.18014765922493, gamma=0.0072565565367861806; total time=   0.0s\n",
      "[CV] END ....C=9.18014765922493, gamma=0.0072565565367861806; total time=   0.0s\n",
      "[CV] END ...C=1.069521305311907, gamma=0.0032415095286272714; total time=   0.0s\n",
      "[CV] END ...C=1.069521305311907, gamma=0.0032415095286272714; total time=   0.0s\n",
      "[CV] END ...C=1.069521305311907, gamma=0.0032415095286272714; total time=   0.0s\n",
      "[CV] END ...C=1.069521305311907, gamma=0.0032415095286272714; total time=   0.0s\n",
      "[CV] END ...C=1.069521305311907, gamma=0.0032415095286272714; total time=   0.0s\n",
      "[CV] END ....C=5.17411003148779, gamma=0.0016676611460145472; total time=   0.0s\n",
      "[CV] END ....C=5.17411003148779, gamma=0.0016676611460145472; total time=   0.0s\n",
      "[CV] END ....C=5.17411003148779, gamma=0.0016676611460145472; total time=   0.0s\n",
      "[CV] END ....C=5.17411003148779, gamma=0.0016676611460145472; total time=   0.0s\n",
      "[CV] END ....C=5.17411003148779, gamma=0.0016676611460145472; total time=   0.0s\n",
      "[CV] END ...C=2.1986536733368283, gamma=0.002175780957128771; total time=   0.0s\n",
      "[CV] END ...C=2.1986536733368283, gamma=0.002175780957128771; total time=   0.0s\n",
      "[CV] END ...C=2.1986536733368283, gamma=0.002175780957128771; total time=   0.0s\n",
      "[CV] END ...C=2.1986536733368283, gamma=0.002175780957128771; total time=   0.0s\n",
      "[CV] END ...C=2.1986536733368283, gamma=0.002175780957128771; total time=   0.0s\n",
      "[CV] END ...C=10.429097039125192, gamma=0.002104761698332612; total time=   0.0s\n",
      "[CV] END ...C=10.429097039125192, gamma=0.002104761698332612; total time=   0.0s\n",
      "[CV] END ...C=10.429097039125192, gamma=0.002104761698332612; total time=   0.0s\n",
      "[CV] END ...C=10.429097039125192, gamma=0.002104761698332612; total time=   0.0s\n",
      "[CV] END ...C=10.429097039125192, gamma=0.002104761698332612; total time=   0.0s\n",
      "[CV] END ....C=6.187906217433661, gamma=0.005046833287655851; total time=   0.0s\n",
      "[CV] END ....C=6.187906217433661, gamma=0.005046833287655851; total time=   0.0s\n",
      "[CV] END ....C=6.187906217433661, gamma=0.005046833287655851; total time=   0.0s\n",
      "[CV] END ....C=6.187906217433661, gamma=0.005046833287655851; total time=   0.0s\n",
      "[CV] END ....C=6.187906217433661, gamma=0.005046833287655851; total time=   0.0s\n",
      "[CV] END .....C=4.63629602379294, gamma=0.009370916815598127; total time=   0.0s\n",
      "[CV] END .....C=4.63629602379294, gamma=0.009370916815598127; total time=   0.0s\n",
      "[CV] END .....C=4.63629602379294, gamma=0.009370916815598127; total time=   0.0s\n",
      "[CV] END .....C=4.63629602379294, gamma=0.009370916815598127; total time=   0.0s\n",
      "[CV] END .....C=4.63629602379294, gamma=0.009370916815598127; total time=   0.0s\n",
      "[CV] END ..C=10.624472949421111, gamma=0.0017855922645162268; total time=   0.0s\n",
      "[CV] END ..C=10.624472949421111, gamma=0.0017855922645162268; total time=   0.0s\n",
      "[CV] END ..C=10.624472949421111, gamma=0.0017855922645162268; total time=   0.0s\n",
      "[CV] END ..C=10.624472949421111, gamma=0.0017855922645162268; total time=   0.0s\n",
      "[CV] END ..C=10.624472949421111, gamma=0.0017855922645162268; total time=   0.0s\n",
      "[CV] END ....C=5.972485058923855, gamma=0.001999301582833817; total time=   0.0s\n",
      "[CV] END ....C=5.972485058923855, gamma=0.001999301582833817; total time=   0.0s\n",
      "[CV] END ....C=5.972485058923855, gamma=0.001999301582833817; total time=   0.0s\n",
      "[CV] END ....C=5.972485058923855, gamma=0.001999301582833817; total time=   0.0s\n",
      "[CV] END ....C=5.972485058923855, gamma=0.001999301582833817; total time=   0.0s\n",
      "[CV] END ...C=3.848404943774676, gamma=0.0010886466671993769; total time=   0.0s\n",
      "[CV] END ...C=3.848404943774676, gamma=0.0010886466671993769; total time=   0.0s\n",
      "[CV] END ...C=3.848404943774676, gamma=0.0010886466671993769; total time=   0.0s\n",
      "[CV] END ...C=3.848404943774676, gamma=0.0010886466671993769; total time=   0.0s\n",
      "[CV] END ...C=3.848404943774676, gamma=0.0010886466671993769; total time=   0.0s\n",
      "[CV] END ....C=7.095643339798968, gamma=0.003181845026156779; total time=   0.0s\n",
      "[CV] END ....C=7.095643339798968, gamma=0.003181845026156779; total time=   0.0s\n",
      "[CV] END ....C=7.095643339798968, gamma=0.003181845026156779; total time=   0.0s\n",
      "[CV] END ....C=7.095643339798968, gamma=0.003181845026156779; total time=   0.0s\n",
      "[CV] END ....C=7.095643339798968, gamma=0.003181845026156779; total time=   0.0s\n",
      "[CV] END ..C=1.5147875124998935, gamma=0.0018995313441382813; total time=   0.0s\n",
      "[CV] END ..C=1.5147875124998935, gamma=0.0018995313441382813; total time=   0.0s\n",
      "[CV] END ..C=1.5147875124998935, gamma=0.0018995313441382813; total time=   0.0s\n",
      "[CV] END ..C=1.5147875124998935, gamma=0.0018995313441382813; total time=   0.0s\n",
      "[CV] END ..C=1.5147875124998935, gamma=0.0018995313441382813; total time=   0.0s\n",
      "[CV] END ...C=10.082658859666537, gamma=0.001736048646979629; total time=   0.0s\n",
      "[CV] END ...C=10.082658859666537, gamma=0.001736048646979629; total time=   0.0s\n",
      "[CV] END ...C=10.082658859666537, gamma=0.001736048646979629; total time=   0.0s\n",
      "[CV] END ...C=10.082658859666537, gamma=0.001736048646979629; total time=   0.0s\n",
      "[CV] END ...C=10.082658859666537, gamma=0.001736048646979629; total time=   0.0s\n",
      "[CV] END ....C=2.448948720912231, gamma=0.003086403908528624; total time=   0.0s\n",
      "[CV] END ....C=2.448948720912231, gamma=0.003086403908528624; total time=   0.0s\n",
      "[CV] END ....C=2.448948720912231, gamma=0.003086403908528624; total time=   0.0s\n",
      "[CV] END ....C=2.448948720912231, gamma=0.003086403908528624; total time=   0.0s\n",
      "[CV] END ....C=2.448948720912231, gamma=0.003086403908528624; total time=   0.0s\n",
      "[CV] END ..C=10.856504541106007, gamma=0.0017460443532333499; total time=   0.0s\n",
      "[CV] END ..C=10.856504541106007, gamma=0.0017460443532333499; total time=   0.0s\n",
      "[CV] END ..C=10.856504541106007, gamma=0.0017460443532333499; total time=   0.0s\n",
      "[CV] END ..C=10.856504541106007, gamma=0.0017460443532333499; total time=   0.0s\n",
      "[CV] END ..C=10.856504541106007, gamma=0.0017460443532333499; total time=   0.0s\n",
      "[CV] END ....C=7.721355474058786, gamma=0.005775899332112518; total time=   0.0s\n",
      "[CV] END ....C=7.721355474058786, gamma=0.005775899332112518; total time=   0.0s\n",
      "[CV] END ....C=7.721355474058786, gamma=0.005775899332112518; total time=   0.0s\n",
      "[CV] END ....C=7.721355474058786, gamma=0.005775899332112518; total time=   0.0s\n",
      "[CV] END ....C=7.721355474058786, gamma=0.005775899332112518; total time=   0.0s\n",
      "[CV] END ...C=3.3763754399239967, gamma=0.005348307249011093; total time=   0.0s\n",
      "[CV] END ...C=3.3763754399239967, gamma=0.005348307249011093; total time=   0.0s\n",
      "[CV] END ...C=3.3763754399239967, gamma=0.005348307249011093; total time=   0.0s\n",
      "[CV] END ...C=3.3763754399239967, gamma=0.005348307249011093; total time=   0.0s\n",
      "[CV] END ...C=3.3763754399239967, gamma=0.005348307249011093; total time=   0.0s\n",
      "[CV] END ....C=4.677831327192532, gamma=0.004288504109627156; total time=   0.0s\n",
      "[CV] END ....C=4.677831327192532, gamma=0.004288504109627156; total time=   0.0s\n",
      "[CV] END ....C=4.677831327192532, gamma=0.004288504109627156; total time=   0.0s\n",
      "[CV] END ....C=4.677831327192532, gamma=0.004288504109627156; total time=   0.0s\n",
      "[CV] END ....C=4.677831327192532, gamma=0.004288504109627156; total time=   0.0s\n",
      "[CV] END ...C=7.335297107608947, gamma=0.0034337975314185755; total time=   0.0s\n",
      "[CV] END ...C=7.335297107608947, gamma=0.0034337975314185755; total time=   0.0s\n",
      "[CV] END ...C=7.335297107608947, gamma=0.0034337975314185755; total time=   0.0s\n",
      "[CV] END ...C=7.335297107608947, gamma=0.0034337975314185755; total time=   0.0s\n"
     ]
    },
    {
     "name": "stdout",
     "output_type": "stream",
     "text": [
      "[CV] END ...C=7.335297107608947, gamma=0.0034337975314185755; total time=   0.0s\n",
      "[CV] END ....C=1.902897700544083, gamma=0.006843881726124968; total time=   0.0s\n",
      "[CV] END ....C=1.902897700544083, gamma=0.006843881726124968; total time=   0.0s\n",
      "[CV] END ....C=1.902897700544083, gamma=0.006843881726124968; total time=   0.0s\n",
      "[CV] END ....C=1.902897700544083, gamma=0.006843881726124968; total time=   0.0s\n",
      "[CV] END ....C=1.902897700544083, gamma=0.006843881726124968; total time=   0.0s\n",
      "[CV] END ...C=4.207800649717358, gamma=0.0015364502781676033; total time=   0.0s\n",
      "[CV] END ...C=4.207800649717358, gamma=0.0015364502781676033; total time=   0.0s\n",
      "[CV] END ...C=4.207800649717358, gamma=0.0015364502781676033; total time=   0.0s\n",
      "[CV] END ...C=4.207800649717358, gamma=0.0015364502781676033; total time=   0.0s\n",
      "[CV] END ...C=4.207800649717358, gamma=0.0015364502781676033; total time=   0.0s\n",
      "[CV] END ...C=1.4077514155476392, gamma=0.003898458749305194; total time=   0.0s\n",
      "[CV] END ...C=1.4077514155476392, gamma=0.003898458749305194; total time=   0.0s\n",
      "[CV] END ...C=1.4077514155476392, gamma=0.003898458749305194; total time=   0.0s\n",
      "[CV] END ...C=1.4077514155476392, gamma=0.003898458749305194; total time=   0.0s\n",
      "[CV] END ...C=1.4077514155476392, gamma=0.003898458749305194; total time=   0.0s\n",
      "[CV] END ...C=7.775643618422825, gamma=0.0010389336884578954; total time=   0.0s\n",
      "[CV] END ...C=7.775643618422825, gamma=0.0010389336884578954; total time=   0.0s\n",
      "[CV] END ...C=7.775643618422825, gamma=0.0010389336884578954; total time=   0.0s\n",
      "[CV] END ...C=7.775643618422825, gamma=0.0010389336884578954; total time=   0.0s\n",
      "[CV] END ...C=7.775643618422825, gamma=0.0010389336884578954; total time=   0.0s\n",
      "[CV] END ....C=6.12093058299281, gamma=0.0016845960390009305; total time=   0.0s\n",
      "[CV] END ....C=6.12093058299281, gamma=0.0016845960390009305; total time=   0.0s\n",
      "[CV] END ....C=6.12093058299281, gamma=0.0016845960390009305; total time=   0.0s\n",
      "[CV] END ....C=6.12093058299281, gamma=0.0016845960390009305; total time=   0.0s\n",
      "[CV] END ....C=6.12093058299281, gamma=0.0016845960390009305; total time=   0.0s\n",
      "[CV] END ...C=7.451727904094499, gamma=0.0014940544624243643; total time=   0.0s\n",
      "[CV] END ...C=7.451727904094499, gamma=0.0014940544624243643; total time=   0.0s\n",
      "[CV] END ...C=7.451727904094499, gamma=0.0014940544624243643; total time=   0.0s\n",
      "[CV] END ...C=7.451727904094499, gamma=0.0014940544624243643; total time=   0.0s\n",
      "[CV] END ...C=7.451727904094499, gamma=0.0014940544624243643; total time=   0.0s\n",
      "[CV] END ....C=7.90937738102466, gamma=0.0024363256990834956; total time=   0.0s\n",
      "[CV] END ....C=7.90937738102466, gamma=0.0024363256990834956; total time=   0.0s\n",
      "[CV] END ....C=7.90937738102466, gamma=0.0024363256990834956; total time=   0.0s\n",
      "[CV] END ....C=7.90937738102466, gamma=0.0024363256990834956; total time=   0.0s\n",
      "[CV] END ....C=7.90937738102466, gamma=0.0024363256990834956; total time=   0.0s\n",
      "[CV] END ..C=10.367299887367345, gamma=0.0013725271504644177; total time=   0.0s\n",
      "[CV] END ..C=10.367299887367345, gamma=0.0013725271504644177; total time=   0.0s\n",
      "[CV] END ..C=10.367299887367345, gamma=0.0013725271504644177; total time=   0.0s\n",
      "[CV] END ..C=10.367299887367345, gamma=0.0013725271504644177; total time=   0.0s\n",
      "[CV] END ..C=10.367299887367345, gamma=0.0013725271504644177; total time=   0.0s\n",
      "[CV] END ..C=4.4106635105025855, gamma=0.0012985943866394567; total time=   0.0s\n",
      "[CV] END ..C=4.4106635105025855, gamma=0.0012985943866394567; total time=   0.0s\n",
      "[CV] END ..C=4.4106635105025855, gamma=0.0012985943866394567; total time=   0.0s\n",
      "[CV] END ..C=4.4106635105025855, gamma=0.0012985943866394567; total time=   0.0s\n",
      "[CV] END ..C=4.4106635105025855, gamma=0.0012985943866394567; total time=   0.0s\n",
      "[CV] END ..C=10.246936182785628, gamma=0.0075394445831322805; total time=   0.0s\n",
      "[CV] END ..C=10.246936182785628, gamma=0.0075394445831322805; total time=   0.0s\n",
      "[CV] END ..C=10.246936182785628, gamma=0.0075394445831322805; total time=   0.0s\n",
      "[CV] END ..C=10.246936182785628, gamma=0.0075394445831322805; total time=   0.0s\n",
      "[CV] END ..C=10.246936182785628, gamma=0.0075394445831322805; total time=   0.0s\n",
      "[CV] END ....C=3.579416277151556, gamma=0.004570713986223208; total time=   0.0s\n",
      "[CV] END ....C=3.579416277151556, gamma=0.004570713986223208; total time=   0.0s\n",
      "[CV] END ....C=3.579416277151556, gamma=0.004570713986223208; total time=   0.0s\n",
      "[CV] END ....C=3.579416277151556, gamma=0.004570713986223208; total time=   0.0s\n",
      "[CV] END ....C=3.579416277151556, gamma=0.004570713986223208; total time=   0.0s\n",
      "[CV] END ...C=9.172222002012159, gamma=0.0035908793342403172; total time=   0.0s\n",
      "[CV] END ...C=9.172222002012159, gamma=0.0035908793342403172; total time=   0.0s\n",
      "[CV] END ...C=9.172222002012159, gamma=0.0035908793342403172; total time=   0.0s\n",
      "[CV] END ...C=9.172222002012159, gamma=0.0035908793342403172; total time=   0.0s\n",
      "[CV] END ...C=9.172222002012159, gamma=0.0035908793342403172; total time=   0.0s\n",
      "[CV] END ....C=6.296505783560065, gamma=0.001745228477474914; total time=   0.0s\n",
      "[CV] END ....C=6.296505783560065, gamma=0.001745228477474914; total time=   0.0s\n",
      "[CV] END ....C=6.296505783560065, gamma=0.001745228477474914; total time=   0.0s\n",
      "[CV] END ....C=6.296505783560065, gamma=0.001745228477474914; total time=   0.0s\n",
      "[CV] END ....C=6.296505783560065, gamma=0.001745228477474914; total time=   0.0s\n",
      "[CV] END ...C=1.9310276780589921, gamma=0.007892521215168546; total time=   0.0s\n",
      "[CV] END ...C=1.9310276780589921, gamma=0.007892521215168546; total time=   0.0s\n",
      "[CV] END ...C=1.9310276780589921, gamma=0.007892521215168546; total time=   0.0s\n",
      "[CV] END ...C=1.9310276780589921, gamma=0.007892521215168546; total time=   0.0s\n",
      "[CV] END ...C=1.9310276780589921, gamma=0.007892521215168546; total time=   0.0s\n",
      "[CV] END ...C=10.004180571633304, gamma=0.004296367842118345; total time=   0.0s\n",
      "[CV] END ...C=10.004180571633304, gamma=0.004296367842118345; total time=   0.0s\n",
      "[CV] END ...C=10.004180571633304, gamma=0.004296367842118345; total time=   0.0s\n",
      "[CV] END ...C=10.004180571633304, gamma=0.004296367842118345; total time=   0.0s\n",
      "[CV] END ...C=10.004180571633304, gamma=0.004296367842118345; total time=   0.0s\n",
      "[CV] END ...C=4.390297910487007, gamma=0.0022346503230945155; total time=   0.0s\n",
      "[CV] END ...C=4.390297910487007, gamma=0.0022346503230945155; total time=   0.0s\n",
      "[CV] END ...C=4.390297910487007, gamma=0.0022346503230945155; total time=   0.0s\n",
      "[CV] END ...C=4.390297910487007, gamma=0.0022346503230945155; total time=   0.0s\n",
      "[CV] END ...C=4.390297910487007, gamma=0.0022346503230945155; total time=   0.0s\n",
      "[CV] END ....C=8.259556788702394, gamma=0.007890604211569265; total time=   0.0s\n",
      "[CV] END ....C=8.259556788702394, gamma=0.007890604211569265; total time=   0.0s\n",
      "[CV] END ....C=8.259556788702394, gamma=0.007890604211569265; total time=   0.0s\n",
      "[CV] END ....C=8.259556788702394, gamma=0.007890604211569265; total time=   0.0s\n",
      "[CV] END ....C=8.259556788702394, gamma=0.007890604211569265; total time=   0.0s\n",
      "[CV] END ....C=9.870864242651173, gamma=0.006023869375703681; total time=   0.0s\n",
      "[CV] END ....C=9.870864242651173, gamma=0.006023869375703681; total time=   0.0s\n",
      "[CV] END ....C=9.870864242651173, gamma=0.006023869375703681; total time=   0.0s\n",
      "[CV] END ....C=9.870864242651173, gamma=0.006023869375703681; total time=   0.0s\n",
      "[CV] END ....C=9.870864242651173, gamma=0.006023869375703681; total time=   0.0s\n",
      "Running time: 42.96449539999594 Seconds\n"
     ]
    }
   ],
   "source": [
    "import time\n",
    "start =time.perf_counter()\n",
    "svm_clf=SVR(kernel='rbf')\n",
    "param_distributions={\"gamma\":reciprocal(0.001,0.01),\"C\":uniform(1,10)}\n",
    "#精度评价方式为r2\n",
    "#训练100次\n",
    "#参数搜索范围\n",
    "rnd_search_cv=RandomizedSearchCV(svm_clf,param_distributions,n_iter=100,verbose\n",
    "                                =2,cv=5,scoring='r2',random_state=42,n_jobs=1)\n",
    "rnd_search_cv.fit(X_train,y_train)\n",
    "end=time.perf_counter()\n",
    "print('Running time: %s Seconds'%(end-start))"
   ]
  },
  {
   "cell_type": "code",
   "execution_count": 35,
   "id": "9c130189",
   "metadata": {},
   "outputs": [
    {
     "data": {
      "text/html": [
       "<style>#sk-container-id-3 {color: black;background-color: white;}#sk-container-id-3 pre{padding: 0;}#sk-container-id-3 div.sk-toggleable {background-color: white;}#sk-container-id-3 label.sk-toggleable__label {cursor: pointer;display: block;width: 100%;margin-bottom: 0;padding: 0.3em;box-sizing: border-box;text-align: center;}#sk-container-id-3 label.sk-toggleable__label-arrow:before {content: \"▸\";float: left;margin-right: 0.25em;color: #696969;}#sk-container-id-3 label.sk-toggleable__label-arrow:hover:before {color: black;}#sk-container-id-3 div.sk-estimator:hover label.sk-toggleable__label-arrow:before {color: black;}#sk-container-id-3 div.sk-toggleable__content {max-height: 0;max-width: 0;overflow: hidden;text-align: left;background-color: #f0f8ff;}#sk-container-id-3 div.sk-toggleable__content pre {margin: 0.2em;color: black;border-radius: 0.25em;background-color: #f0f8ff;}#sk-container-id-3 input.sk-toggleable__control:checked~div.sk-toggleable__content {max-height: 200px;max-width: 100%;overflow: auto;}#sk-container-id-3 input.sk-toggleable__control:checked~label.sk-toggleable__label-arrow:before {content: \"▾\";}#sk-container-id-3 div.sk-estimator input.sk-toggleable__control:checked~label.sk-toggleable__label {background-color: #d4ebff;}#sk-container-id-3 div.sk-label input.sk-toggleable__control:checked~label.sk-toggleable__label {background-color: #d4ebff;}#sk-container-id-3 input.sk-hidden--visually {border: 0;clip: rect(1px 1px 1px 1px);clip: rect(1px, 1px, 1px, 1px);height: 1px;margin: -1px;overflow: hidden;padding: 0;position: absolute;width: 1px;}#sk-container-id-3 div.sk-estimator {font-family: monospace;background-color: #f0f8ff;border: 1px dotted black;border-radius: 0.25em;box-sizing: border-box;margin-bottom: 0.5em;}#sk-container-id-3 div.sk-estimator:hover {background-color: #d4ebff;}#sk-container-id-3 div.sk-parallel-item::after {content: \"\";width: 100%;border-bottom: 1px solid gray;flex-grow: 1;}#sk-container-id-3 div.sk-label:hover label.sk-toggleable__label {background-color: #d4ebff;}#sk-container-id-3 div.sk-serial::before {content: \"\";position: absolute;border-left: 1px solid gray;box-sizing: border-box;top: 0;bottom: 0;left: 50%;z-index: 0;}#sk-container-id-3 div.sk-serial {display: flex;flex-direction: column;align-items: center;background-color: white;padding-right: 0.2em;padding-left: 0.2em;position: relative;}#sk-container-id-3 div.sk-item {position: relative;z-index: 1;}#sk-container-id-3 div.sk-parallel {display: flex;align-items: stretch;justify-content: center;background-color: white;position: relative;}#sk-container-id-3 div.sk-item::before, #sk-container-id-3 div.sk-parallel-item::before {content: \"\";position: absolute;border-left: 1px solid gray;box-sizing: border-box;top: 0;bottom: 0;left: 50%;z-index: -1;}#sk-container-id-3 div.sk-parallel-item {display: flex;flex-direction: column;z-index: 1;position: relative;background-color: white;}#sk-container-id-3 div.sk-parallel-item:first-child::after {align-self: flex-end;width: 50%;}#sk-container-id-3 div.sk-parallel-item:last-child::after {align-self: flex-start;width: 50%;}#sk-container-id-3 div.sk-parallel-item:only-child::after {width: 0;}#sk-container-id-3 div.sk-dashed-wrapped {border: 1px dashed gray;margin: 0 0.4em 0.5em 0.4em;box-sizing: border-box;padding-bottom: 0.4em;background-color: white;}#sk-container-id-3 div.sk-label label {font-family: monospace;font-weight: bold;display: inline-block;line-height: 1.2em;}#sk-container-id-3 div.sk-label-container {text-align: center;}#sk-container-id-3 div.sk-container {/* jupyter's `normalize.less` sets `[hidden] { display: none; }` but bootstrap.min.css set `[hidden] { display: none !important; }` so we also need the `!important` here to be able to override the default hidden behavior on the sphinx rendered scikit-learn.org. See: https://github.com/scikit-learn/scikit-learn/issues/21755 */display: inline-block !important;position: relative;}#sk-container-id-3 div.sk-text-repr-fallback {display: none;}</style><div id=\"sk-container-id-3\" class=\"sk-top-container\"><div class=\"sk-text-repr-fallback\"><pre>SVR(C=9.074401551640625, gamma=0.007872112644525066)</pre><b>In a Jupyter environment, please rerun this cell to show the HTML representation or trust the notebook. <br />On GitHub, the HTML representation is unable to render, please try loading this page with nbviewer.org.</b></div><div class=\"sk-container\" hidden><div class=\"sk-item\"><div class=\"sk-estimator sk-toggleable\"><input class=\"sk-toggleable__control sk-hidden--visually\" id=\"sk-estimator-id-7\" type=\"checkbox\" checked><label for=\"sk-estimator-id-7\" class=\"sk-toggleable__label sk-toggleable__label-arrow\">SVR</label><div class=\"sk-toggleable__content\"><pre>SVR(C=9.074401551640625, gamma=0.007872112644525066)</pre></div></div></div></div></div>"
      ],
      "text/plain": [
       "SVR(C=9.074401551640625, gamma=0.007872112644525066)"
      ]
     },
     "execution_count": 35,
     "metadata": {},
     "output_type": "execute_result"
    }
   ],
   "source": [
    "rnd_search_cv.best_estimator_"
   ]
  },
  {
   "cell_type": "code",
   "execution_count": 42,
   "id": "4a25acce",
   "metadata": {},
   "outputs": [],
   "source": [
    "y_pred1 = rnd_search_cv.best_estimator_.predict(X_train)\n",
    "y_pred2 = rnd_search_cv.best_estimator_.predict(X_val)\n",
    "svr=[]\n",
    "svr.append(root_mean_squared_error(y_train, y_pred1))\n",
    "svr.append(mean_absolute_error(y_train,y_pred1))\n",
    "svr.append(r_square(y_train,y_pred1))"
   ]
  },
  {
   "cell_type": "code",
   "execution_count": 21,
   "id": "d9db62ab",
   "metadata": {},
   "outputs": [
    {
     "data": {
      "text/plain": [
       "Text(0.5, 1.0, 'SVR 30 个测试数据真实值和预测值')"
      ]
     },
     "execution_count": 21,
     "metadata": {},
     "output_type": "execute_result"
    },
    {
     "data": {
      "image/png": "[encoded data removed]",
      "text/plain": [
       "<Figure size 720x396 with 1 Axes>"
      ]
     },
     "metadata": {
      "needs_background": "light"
     },
     "output_type": "display_data"
    }
   ],
   "source": [
    "aa_true=pd.DataFrame(y_val[:30]).values\n",
    "aa_val=y_pred2[:30]\n",
    "plt.figure(figsize=(10,5.5))\n",
    "#format_string\n",
    "plt.plot(aa_true,\"bo-\",label=\"true\")\n",
    "plt.plot(aa_val, \"r.-\",label=\"val\")\n",
    "\n",
    "plt.xlabel(\"30个数据编号\")\n",
    "plt.xlabel(\"PIC50\")\n",
    "plt.legend(['test_true','test_pre'])\n",
    "plt.title(\"SVR 30 个测试数据真实值和预测值\", fontsize=14)"
   ]
  },
  {
   "cell_type": "code",
   "execution_count": 22,
   "id": "18ffa0d4",
   "metadata": {},
   "outputs": [],
   "source": [
    "from scipy.stats import randint\n",
    "#设定参数搜索范围\n",
    "param_distribs = {\n",
    "'n_estimators': randint(low=1, high=200),\n",
    "'max_features': randint(low=1, high=8) }\n",
    "forest_reg = RandomForestRegressor(max_features=6,n_estimators=185,random_state=42)\n",
    "rnd_search=RandomizedSearchCV(forest_reg, param_distributions=param_distribs, n_iter=100,\n",
    "                              cv=5,scoring='r2', random_state=42)\n",
    "rnd_search.fit(X_train, y_train)"
   ]
  },
  {
   "cell_type": "code",
   "execution_count": 27,
   "id": "85d78cf8",
   "metadata": {},
   "outputs": [],
   "source": [
    "forest_reg = RandomForestRegressor(max_features=6,n_estimators=185,random_state=42)\n",
    "rnd_search=RandomizedSearchCV(forest_reg, param_distributions=param_distribs, n_iter=100,\n",
    "                              cv=5,scoring='r2', random_state=42)"
   ]
  },
  {
   "cell_type": "code",
   "execution_count": 28,
   "id": "6dda002a",
   "metadata": {},
   "outputs": [
    {
     "data": {
      "text/html": [
       "<style>#sk-container-id-2 {color: black;background-color: white;}#sk-container-id-2 pre{padding: 0;}#sk-container-id-2 div.sk-toggleable {background-color: white;}#sk-container-id-2 label.sk-toggleable__label {cursor: pointer;display: block;width: 100%;margin-bottom: 0;padding: 0.3em;box-sizing: border-box;text-align: center;}#sk-container-id-2 label.sk-toggleable__label-arrow:before {content: \"▸\";float: left;margin-right: 0.25em;color: #696969;}#sk-container-id-2 label.sk-toggleable__label-arrow:hover:before {color: black;}#sk-container-id-2 div.sk-estimator:hover label.sk-toggleable__label-arrow:before {color: black;}#sk-container-id-2 div.sk-toggleable__content {max-height: 0;max-width: 0;overflow: hidden;text-align: left;background-color: #f0f8ff;}#sk-container-id-2 div.sk-toggleable__content pre {margin: 0.2em;color: black;border-radius: 0.25em;background-color: #f0f8ff;}#sk-container-id-2 input.sk-toggleable__control:checked~div.sk-toggleable__content {max-height: 200px;max-width: 100%;overflow: auto;}#sk-container-id-2 input.sk-toggleable__control:checked~label.sk-toggleable__label-arrow:before {content: \"▾\";}#sk-container-id-2 div.sk-estimator input.sk-toggleable__control:checked~label.sk-toggleable__label {background-color: #d4ebff;}#sk-container-id-2 div.sk-label input.sk-toggleable__control:checked~label.sk-toggleable__label {background-color: #d4ebff;}#sk-container-id-2 input.sk-hidden--visually {border: 0;clip: rect(1px 1px 1px 1px);clip: rect(1px, 1px, 1px, 1px);height: 1px;margin: -1px;overflow: hidden;padding: 0;position: absolute;width: 1px;}#sk-container-id-2 div.sk-estimator {font-family: monospace;background-color: #f0f8ff;border: 1px dotted black;border-radius: 0.25em;box-sizing: border-box;margin-bottom: 0.5em;}#sk-container-id-2 div.sk-estimator:hover {background-color: #d4ebff;}#sk-container-id-2 div.sk-parallel-item::after {content: \"\";width: 100%;border-bottom: 1px solid gray;flex-grow: 1;}#sk-container-id-2 div.sk-label:hover label.sk-toggleable__label {background-color: #d4ebff;}#sk-container-id-2 div.sk-serial::before {content: \"\";position: absolute;border-left: 1px solid gray;box-sizing: border-box;top: 0;bottom: 0;left: 50%;z-index: 0;}#sk-container-id-2 div.sk-serial {display: flex;flex-direction: column;align-items: center;background-color: white;padding-right: 0.2em;padding-left: 0.2em;position: relative;}#sk-container-id-2 div.sk-item {position: relative;z-index: 1;}#sk-container-id-2 div.sk-parallel {display: flex;align-items: stretch;justify-content: center;background-color: white;position: relative;}#sk-container-id-2 div.sk-item::before, #sk-container-id-2 div.sk-parallel-item::before {content: \"\";position: absolute;border-left: 1px solid gray;box-sizing: border-box;top: 0;bottom: 0;left: 50%;z-index: -1;}#sk-container-id-2 div.sk-parallel-item {display: flex;flex-direction: column;z-index: 1;position: relative;background-color: white;}#sk-container-id-2 div.sk-parallel-item:first-child::after {align-self: flex-end;width: 50%;}#sk-container-id-2 div.sk-parallel-item:last-child::after {align-self: flex-start;width: 50%;}#sk-container-id-2 div.sk-parallel-item:only-child::after {width: 0;}#sk-container-id-2 div.sk-dashed-wrapped {border: 1px dashed gray;margin: 0 0.4em 0.5em 0.4em;box-sizing: border-box;padding-bottom: 0.4em;background-color: white;}#sk-container-id-2 div.sk-label label {font-family: monospace;font-weight: bold;display: inline-block;line-height: 1.2em;}#sk-container-id-2 div.sk-label-container {text-align: center;}#sk-container-id-2 div.sk-container {/* jupyter's `normalize.less` sets `[hidden] { display: none; }` but bootstrap.min.css set `[hidden] { display: none !important; }` so we also need the `!important` here to be able to override the default hidden behavior on the sphinx rendered scikit-learn.org. See: https://github.com/scikit-learn/scikit-learn/issues/21755 */display: inline-block !important;position: relative;}#sk-container-id-2 div.sk-text-repr-fallback {display: none;}</style><div id=\"sk-container-id-2\" class=\"sk-top-container\"><div class=\"sk-text-repr-fallback\"><pre>RandomizedSearchCV(cv=5,\n",
       "                   estimator=RandomForestRegressor(max_features=6,\n",
       "                                                   n_estimators=185,\n",
       "                                                   random_state=42),\n",
       "                   n_iter=100,\n",
       "                   param_distributions={&#x27;max_features&#x27;: &lt;scipy.stats._distn_infrastructure.rv_frozen object at 0x0000022834EEEE90&gt;,\n",
       "                                        &#x27;n_estimators&#x27;: &lt;scipy.stats._distn_infrastructure.rv_frozen object at 0x0000022836BF4250&gt;},\n",
       "                   random_state=42, scoring=&#x27;r2&#x27;)</pre><b>In a Jupyter environment, please rerun this cell to show the HTML representation or trust the notebook. <br />On GitHub, the HTML representation is unable to render, please try loading this page with nbviewer.org.</b></div><div class=\"sk-container\" hidden><div class=\"sk-item sk-dashed-wrapped\"><div class=\"sk-label-container\"><div class=\"sk-label sk-toggleable\"><input class=\"sk-toggleable__control sk-hidden--visually\" id=\"sk-estimator-id-4\" type=\"checkbox\" ><label for=\"sk-estimator-id-4\" class=\"sk-toggleable__label sk-toggleable__label-arrow\">RandomizedSearchCV</label><div class=\"sk-toggleable__content\"><pre>RandomizedSearchCV(cv=5,\n",
       "                   estimator=RandomForestRegressor(max_features=6,\n",
       "                                                   n_estimators=185,\n",
       "                                                   random_state=42),\n",
       "                   n_iter=100,\n",
       "                   param_distributions={&#x27;max_features&#x27;: &lt;scipy.stats._distn_infrastructure.rv_frozen object at 0x0000022834EEEE90&gt;,\n",
       "                                        &#x27;n_estimators&#x27;: &lt;scipy.stats._distn_infrastructure.rv_frozen object at 0x0000022836BF4250&gt;},\n",
       "                   random_state=42, scoring=&#x27;r2&#x27;)</pre></div></div></div><div class=\"sk-parallel\"><div class=\"sk-parallel-item\"><div class=\"sk-item\"><div class=\"sk-label-container\"><div class=\"sk-label sk-toggleable\"><input class=\"sk-toggleable__control sk-hidden--visually\" id=\"sk-estimator-id-5\" type=\"checkbox\" ><label for=\"sk-estimator-id-5\" class=\"sk-toggleable__label sk-toggleable__label-arrow\">estimator: RandomForestRegressor</label><div class=\"sk-toggleable__content\"><pre>RandomForestRegressor(max_features=6, n_estimators=185, random_state=42)</pre></div></div></div><div class=\"sk-serial\"><div class=\"sk-item\"><div class=\"sk-estimator sk-toggleable\"><input class=\"sk-toggleable__control sk-hidden--visually\" id=\"sk-estimator-id-6\" type=\"checkbox\" ><label for=\"sk-estimator-id-6\" class=\"sk-toggleable__label sk-toggleable__label-arrow\">RandomForestRegressor</label><div class=\"sk-toggleable__content\"><pre>RandomForestRegressor(max_features=6, n_estimators=185, random_state=42)</pre></div></div></div></div></div></div></div></div></div></div>"
      ],
      "text/plain": [
       "RandomizedSearchCV(cv=5,\n",
       "                   estimator=RandomForestRegressor(max_features=6,\n",
       "                                                   n_estimators=185,\n",
       "                                                   random_state=42),\n",
       "                   n_iter=100,\n",
       "                   param_distributions={'max_features': <scipy.stats._distn_infrastructure.rv_frozen object at 0x0000022834EEEE90>,\n",
       "                                        'n_estimators': <scipy.stats._distn_infrastructure.rv_frozen object at 0x0000022836BF4250>},\n",
       "                   random_state=42, scoring='r2')"
      ]
     },
     "execution_count": 28,
     "metadata": {},
     "output_type": "execute_result"
    }
   ],
   "source": [
    "rnd_search.fit(X_train, y_train)\n"
   ]
  },
  {
   "cell_type": "code",
   "execution_count": 38,
   "id": "6bd5e3ee",
   "metadata": {},
   "outputs": [
    {
     "data": {
      "text/html": [
       "<style>#sk-container-id-4 {color: black;background-color: white;}#sk-container-id-4 pre{padding: 0;}#sk-container-id-4 div.sk-toggleable {background-color: white;}#sk-container-id-4 label.sk-toggleable__label {cursor: pointer;display: block;width: 100%;margin-bottom: 0;padding: 0.3em;box-sizing: border-box;text-align: center;}#sk-container-id-4 label.sk-toggleable__label-arrow:before {content: \"▸\";float: left;margin-right: 0.25em;color: #696969;}#sk-container-id-4 label.sk-toggleable__label-arrow:hover:before {color: black;}#sk-container-id-4 div.sk-estimator:hover label.sk-toggleable__label-arrow:before {color: black;}#sk-container-id-4 div.sk-toggleable__content {max-height: 0;max-width: 0;overflow: hidden;text-align: left;background-color: #f0f8ff;}#sk-container-id-4 div.sk-toggleable__content pre {margin: 0.2em;color: black;border-radius: 0.25em;background-color: #f0f8ff;}#sk-container-id-4 input.sk-toggleable__control:checked~div.sk-toggleable__content {max-height: 200px;max-width: 100%;overflow: auto;}#sk-container-id-4 input.sk-toggleable__control:checked~label.sk-toggleable__label-arrow:before {content: \"▾\";}#sk-container-id-4 div.sk-estimator input.sk-toggleable__control:checked~label.sk-toggleable__label {background-color: #d4ebff;}#sk-container-id-4 div.sk-label input.sk-toggleable__control:checked~label.sk-toggleable__label {background-color: #d4ebff;}#sk-container-id-4 input.sk-hidden--visually {border: 0;clip: rect(1px 1px 1px 1px);clip: rect(1px, 1px, 1px, 1px);height: 1px;margin: -1px;overflow: hidden;padding: 0;position: absolute;width: 1px;}#sk-container-id-4 div.sk-estimator {font-family: monospace;background-color: #f0f8ff;border: 1px dotted black;border-radius: 0.25em;box-sizing: border-box;margin-bottom: 0.5em;}#sk-container-id-4 div.sk-estimator:hover {background-color: #d4ebff;}#sk-container-id-4 div.sk-parallel-item::after {content: \"\";width: 100%;border-bottom: 1px solid gray;flex-grow: 1;}#sk-container-id-4 div.sk-label:hover label.sk-toggleable__label {background-color: #d4ebff;}#sk-container-id-4 div.sk-serial::before {content: \"\";position: absolute;border-left: 1px solid gray;box-sizing: border-box;top: 0;bottom: 0;left: 50%;z-index: 0;}#sk-container-id-4 div.sk-serial {display: flex;flex-direction: column;align-items: center;background-color: white;padding-right: 0.2em;padding-left: 0.2em;position: relative;}#sk-container-id-4 div.sk-item {position: relative;z-index: 1;}#sk-container-id-4 div.sk-parallel {display: flex;align-items: stretch;justify-content: center;background-color: white;position: relative;}#sk-container-id-4 div.sk-item::before, #sk-container-id-4 div.sk-parallel-item::before {content: \"\";position: absolute;border-left: 1px solid gray;box-sizing: border-box;top: 0;bottom: 0;left: 50%;z-index: -1;}#sk-container-id-4 div.sk-parallel-item {display: flex;flex-direction: column;z-index: 1;position: relative;background-color: white;}#sk-container-id-4 div.sk-parallel-item:first-child::after {align-self: flex-end;width: 50%;}#sk-container-id-4 div.sk-parallel-item:last-child::after {align-self: flex-start;width: 50%;}#sk-container-id-4 div.sk-parallel-item:only-child::after {width: 0;}#sk-container-id-4 div.sk-dashed-wrapped {border: 1px dashed gray;margin: 0 0.4em 0.5em 0.4em;box-sizing: border-box;padding-bottom: 0.4em;background-color: white;}#sk-container-id-4 div.sk-label label {font-family: monospace;font-weight: bold;display: inline-block;line-height: 1.2em;}#sk-container-id-4 div.sk-label-container {text-align: center;}#sk-container-id-4 div.sk-container {/* jupyter's `normalize.less` sets `[hidden] { display: none; }` but bootstrap.min.css set `[hidden] { display: none !important; }` so we also need the `!important` here to be able to override the default hidden behavior on the sphinx rendered scikit-learn.org. See: https://github.com/scikit-learn/scikit-learn/issues/21755 */display: inline-block !important;position: relative;}#sk-container-id-4 div.sk-text-repr-fallback {display: none;}</style><div id=\"sk-container-id-4\" class=\"sk-top-container\"><div class=\"sk-text-repr-fallback\"><pre>RandomForestRegressor(max_features=5, random_state=42)</pre><b>In a Jupyter environment, please rerun this cell to show the HTML representation or trust the notebook. <br />On GitHub, the HTML representation is unable to render, please try loading this page with nbviewer.org.</b></div><div class=\"sk-container\" hidden><div class=\"sk-item\"><div class=\"sk-estimator sk-toggleable\"><input class=\"sk-toggleable__control sk-hidden--visually\" id=\"sk-estimator-id-8\" type=\"checkbox\" checked><label for=\"sk-estimator-id-8\" class=\"sk-toggleable__label sk-toggleable__label-arrow\">RandomForestRegressor</label><div class=\"sk-toggleable__content\"><pre>RandomForestRegressor(max_features=5, random_state=42)</pre></div></div></div></div></div>"
      ],
      "text/plain": [
       "RandomForestRegressor(max_features=5, random_state=42)"
      ]
     },
     "execution_count": 38,
     "metadata": {},
     "output_type": "execute_result"
    }
   ],
   "source": [
    "rnd_search.best_estimator_"
   ]
  },
  {
   "cell_type": "code",
   "execution_count": 31,
   "id": "2a6746fc",
   "metadata": {},
   "outputs": [],
   "source": [
    "import joblib"
   ]
  },
  {
   "cell_type": "code",
   "execution_count": 33,
   "id": "12883a58",
   "metadata": {},
   "outputs": [
    {
     "data": {
      "text/plain": [
       "['rf_reg.pkl']"
      ]
     },
     "execution_count": 33,
     "metadata": {},
     "output_type": "execute_result"
    }
   ],
   "source": [
    "joblib.dump(rf_reg,'rf_reg.pkl')"
   ]
  },
  {
   "cell_type": "code",
   "execution_count": 43,
   "id": "4ced9f2f",
   "metadata": {},
   "outputs": [],
   "source": [
    "y_pred1=rnd_search.best_estimator_.predict(X_train)\n",
    "y_pred2=rnd_search.best_estimator_.predict(X_val)\n",
    "rf=[]\n",
    "rf.append(root_mean_squared_error(y_train, y_pred1))\n",
    "rf.append(mean_absolute_error(y_train,y_pred1))\n",
    "rf.append(r_square(y_train,y_pred1))"
   ]
  },
  {
   "cell_type": "code",
   "execution_count": 30,
   "id": "fe30a1f0",
   "metadata": {},
   "outputs": [
    {
     "data": {
      "text/plain": [
       "Text(0.5, 1.0, 'RF 30 个测试数据真实值和预测值')"
      ]
     },
     "execution_count": 30,
     "metadata": {},
     "output_type": "execute_result"
    },
    {
     "data": {
      "image/png": "[encoded data removed]",
      "text/plain": [
       "<Figure size 720x396 with 1 Axes>"
      ]
     },
     "metadata": {
      "needs_background": "light"
     },
     "output_type": "display_data"
    }
   ],
   "source": [
    "aa_true=pd.DataFrame(y_val[:30]).values\n",
    "aa_val=y_pred2[:30]\n",
    "plt.figure(figsize=(10,5.5))\n",
    "#format_string\n",
    "plt.plot(aa_true,\"bo-\",label=\"true\")\n",
    "plt.plot(aa_val, \"r.-\",label=\"val\")\n",
    "\n",
    "plt.xlabel(\"30个数据编号\")\n",
    "plt.xlabel(\"PIC50\")\n",
    "plt.legend(['test_true','test_pre'])\n",
    "plt.title(\"RF 30 个测试数据真实值和预测值\", fontsize=14)"
   ]
  },
  {
   "cell_type": "code",
   "execution_count": 57,
   "id": "cfb9ffb9",
   "metadata": {},
   "outputs": [
    {
     "data": {
      "text/plain": [
       "([<matplotlib.axis.XTick at 0x2284002c0d0>,\n",
       "  <matplotlib.axis.XTick at 0x2284002c130>],\n",
       " [Text(2, 0, 'svr'), Text(6, 0, 'rf')])"
      ]
     },
     "execution_count": 57,
     "metadata": {},
     "output_type": "execute_result"
    },
    {
     "data": {
      "image/png": "[encoded data removed]",
      "text/plain": [
       "<Figure size 432x288 with 1 Axes>"
      ]
     },
     "metadata": {
      "needs_background": "light"
     },
     "output_type": "display_data"
    }
   ],
   "source": [
    "x1=[1,5]\n",
    "x2=[i+1 for i in x1]\n",
    "x3=[i+2 for i in x1]\n",
    "plt.bar(x1,[svr[0],rf[0]],color='r',width=1,label='mse')\n",
    "plt.bar(x2,[svr[1],rf[1]],color='g',width=1,label='rmse')\n",
    "plt.bar(x3,[svr[2],rf[2]],color='b',width=1,label='r2')\n",
    "plt.legend(loc='best')\n",
    "plt.xticks(x2,['svr','rf'])"
   ]
  },
  {
   "cell_type": "code",
   "execution_count": 69,
   "id": "580e49da",
   "metadata": {},
   "outputs": [],
   "source": [
    "X=pd.read_excel(\"./data/test.xlsx\",header=0).iloc[:,1:]"
   ]
  },
  {
   "cell_type": "code",
   "execution_count": 75,
   "id": "73eed1fb",
   "metadata": {},
   "outputs": [],
   "source": [
    "y=pd.read_excel(\"./data/ADMET.xlsx\",header=0)\n",
    "y1=y.iloc[:,1]\n",
    "y2=y.iloc[:,2]\n",
    "y3=y.iloc[:,3]\n",
    "y4=y.iloc[:,4]\n",
    "y5=y.iloc[:,5]\n",
    "\n",
    "X1_train,X1_valid,y1_train,y1_valid=train_test_split(X,y1,test_size=0.2,random_state=49)\n",
    "X2_train,X2_valid,y2_train,y2_valid=train_test_split(X,y2,test_size=0.2,random_state=49)\n",
    "X3_train,X3_valid,y3_train,y3_valid=train_test_split(X,y3,test_size=0.2,random_state=49)\n",
    "X4_train,X4_valid,y4_train,y4_valid=train_test_split(X,y4,test_size=0.2,random_state=49)\n",
    "X5_train,X5_valid,y5_train,y5_valid=train_test_split(X,y5,test_size=0.2,random_state=49)"
   ]
  },
  {
   "cell_type": "code",
   "execution_count": 60,
   "id": "a5342858",
   "metadata": {},
   "outputs": [],
   "source": [
    "def plot_roc_curve(fpr,tpr,label=None):\n",
    "    plt.plot(fpr,tpr,linewidth=2,label=label)\n",
    "    plt.plot([0,1],[0,1],'k--')\n",
    "    plt.axis([0,1,0,1])\n",
    "    plt.xlabel('False Positive Rate',fontsize=16)\n",
    "    plt.ylabel('True Positive Rate',fontsize=16)\n",
    "    plt.grid(True)#生成网格\n",
    "    plt.show()\n"
   ]
  },
  {
   "cell_type": "code",
   "execution_count": 61,
   "id": "1b9c142b",
   "metadata": {},
   "outputs": [],
   "source": [
    "from sklearn.metrics import roc_curve\n",
    "from sklearn.model_selection import cross_val_predict\n",
    "from sklearn.model_selection import cross_val_score\n",
    "from sklearn.metrics import roc_auc_score\n",
    "from sklearn.svm import SVC, LinearSVC"
   ]
  },
  {
   "cell_type": "code",
   "execution_count": 72,
   "id": "c1326686",
   "metadata": {},
   "outputs": [],
   "source": [
    "svm_clf=SVC(decision_function_shape=\"ovr\",gamma=\"auto\")"
   ]
  },
  {
   "cell_type": "code",
   "execution_count": 73,
   "id": "af1cbeca",
   "metadata": {},
   "outputs": [
    {
     "name": "stdout",
     "output_type": "stream",
     "text": [
      "Fitting 5 folds for each of 100 candidates, totalling 500 fits\n"
     ]
    },
    {
     "ename": "ValueError",
     "evalue": "Invalid parameter 'max_features' for estimator SVC(gamma='auto'). Valid parameters are: ['C', 'break_ties', 'cache_size', 'class_weight', 'coef0', 'decision_function_shape', 'degree', 'gamma', 'kernel', 'max_iter', 'probability', 'random_state', 'shrinking', 'tol', 'verbose'].",
     "output_type": "error",
     "traceback": [
      "\u001b[1;31m---------------------------------------------------------------------------\u001b[0m",
      "\u001b[1;31mValueError\u001b[0m                                Traceback (most recent call last)",
      "Input \u001b[1;32mIn [73]\u001b[0m, in \u001b[0;36m<cell line: 3>\u001b[1;34m()\u001b[0m\n\u001b[0;32m      1\u001b[0m rnd_search_cv\u001b[38;5;241m=\u001b[39mRandomizedSearchCV(svm_clf,param_distributions,n_iter\u001b[38;5;241m=\u001b[39m\u001b[38;5;241m100\u001b[39m,verbose\n\u001b[0;32m      2\u001b[0m                                 \u001b[38;5;241m=\u001b[39m\u001b[38;5;241m2\u001b[39m,cv\u001b[38;5;241m=\u001b[39m\u001b[38;5;241m5\u001b[39m,scoring\u001b[38;5;241m=\u001b[39m\u001b[38;5;124m'\u001b[39m\u001b[38;5;124mr2\u001b[39m\u001b[38;5;124m'\u001b[39m,random_state\u001b[38;5;241m=\u001b[39m\u001b[38;5;241m42\u001b[39m,n_jobs\u001b[38;5;241m=\u001b[39m\u001b[38;5;241m1\u001b[39m)\n\u001b[1;32m----> 3\u001b[0m \u001b[43mrnd_search_cv\u001b[49m\u001b[38;5;241;43m.\u001b[39;49m\u001b[43mfit\u001b[49m\u001b[43m(\u001b[49m\u001b[43mX1_train\u001b[49m\u001b[43m,\u001b[49m\u001b[43my1_train\u001b[49m\u001b[43m)\u001b[49m\n",
      "File \u001b[1;32mE:\\python\\lib\\site-packages\\sklearn\\model_selection\\_search.py:875\u001b[0m, in \u001b[0;36mBaseSearchCV.fit\u001b[1;34m(self, X, y, groups, **fit_params)\u001b[0m\n\u001b[0;32m    869\u001b[0m     results \u001b[38;5;241m=\u001b[39m \u001b[38;5;28mself\u001b[39m\u001b[38;5;241m.\u001b[39m_format_results(\n\u001b[0;32m    870\u001b[0m         all_candidate_params, n_splits, all_out, all_more_results\n\u001b[0;32m    871\u001b[0m     )\n\u001b[0;32m    873\u001b[0m     \u001b[38;5;28;01mreturn\u001b[39;00m results\n\u001b[1;32m--> 875\u001b[0m \u001b[38;5;28;43mself\u001b[39;49m\u001b[38;5;241;43m.\u001b[39;49m\u001b[43m_run_search\u001b[49m\u001b[43m(\u001b[49m\u001b[43mevaluate_candidates\u001b[49m\u001b[43m)\u001b[49m\n\u001b[0;32m    877\u001b[0m \u001b[38;5;66;03m# multimetric is determined here because in the case of a callable\u001b[39;00m\n\u001b[0;32m    878\u001b[0m \u001b[38;5;66;03m# self.scoring the return type is only known after calling\u001b[39;00m\n\u001b[0;32m    879\u001b[0m first_test_score \u001b[38;5;241m=\u001b[39m all_out[\u001b[38;5;241m0\u001b[39m][\u001b[38;5;124m\"\u001b[39m\u001b[38;5;124mtest_scores\u001b[39m\u001b[38;5;124m\"\u001b[39m]\n",
      "File \u001b[1;32mE:\\python\\lib\\site-packages\\sklearn\\model_selection\\_search.py:1753\u001b[0m, in \u001b[0;36mRandomizedSearchCV._run_search\u001b[1;34m(self, evaluate_candidates)\u001b[0m\n\u001b[0;32m   1751\u001b[0m \u001b[38;5;28;01mdef\u001b[39;00m \u001b[38;5;21m_run_search\u001b[39m(\u001b[38;5;28mself\u001b[39m, evaluate_candidates):\n\u001b[0;32m   1752\u001b[0m     \u001b[38;5;124;03m\"\"\"Search n_iter candidates from param_distributions\"\"\"\u001b[39;00m\n\u001b[1;32m-> 1753\u001b[0m     \u001b[43mevaluate_candidates\u001b[49m\u001b[43m(\u001b[49m\n\u001b[0;32m   1754\u001b[0m \u001b[43m        \u001b[49m\u001b[43mParameterSampler\u001b[49m\u001b[43m(\u001b[49m\n\u001b[0;32m   1755\u001b[0m \u001b[43m            \u001b[49m\u001b[38;5;28;43mself\u001b[39;49m\u001b[38;5;241;43m.\u001b[39;49m\u001b[43mparam_distributions\u001b[49m\u001b[43m,\u001b[49m\u001b[43m \u001b[49m\u001b[38;5;28;43mself\u001b[39;49m\u001b[38;5;241;43m.\u001b[39;49m\u001b[43mn_iter\u001b[49m\u001b[43m,\u001b[49m\u001b[43m \u001b[49m\u001b[43mrandom_state\u001b[49m\u001b[38;5;241;43m=\u001b[39;49m\u001b[38;5;28;43mself\u001b[39;49m\u001b[38;5;241;43m.\u001b[39;49m\u001b[43mrandom_state\u001b[49m\n\u001b[0;32m   1756\u001b[0m \u001b[43m        \u001b[49m\u001b[43m)\u001b[49m\n\u001b[0;32m   1757\u001b[0m \u001b[43m    \u001b[49m\u001b[43m)\u001b[49m\n",
      "File \u001b[1;32mE:\\python\\lib\\site-packages\\sklearn\\model_selection\\_search.py:822\u001b[0m, in \u001b[0;36mBaseSearchCV.fit.<locals>.evaluate_candidates\u001b[1;34m(candidate_params, cv, more_results)\u001b[0m\n\u001b[0;32m    814\u001b[0m \u001b[38;5;28;01mif\u001b[39;00m \u001b[38;5;28mself\u001b[39m\u001b[38;5;241m.\u001b[39mverbose \u001b[38;5;241m>\u001b[39m \u001b[38;5;241m0\u001b[39m:\n\u001b[0;32m    815\u001b[0m     \u001b[38;5;28mprint\u001b[39m(\n\u001b[0;32m    816\u001b[0m         \u001b[38;5;124m\"\u001b[39m\u001b[38;5;124mFitting \u001b[39m\u001b[38;5;132;01m{0}\u001b[39;00m\u001b[38;5;124m folds for each of \u001b[39m\u001b[38;5;132;01m{1}\u001b[39;00m\u001b[38;5;124m candidates,\u001b[39m\u001b[38;5;124m\"\u001b[39m\n\u001b[0;32m    817\u001b[0m         \u001b[38;5;124m\"\u001b[39m\u001b[38;5;124m totalling \u001b[39m\u001b[38;5;132;01m{2}\u001b[39;00m\u001b[38;5;124m fits\u001b[39m\u001b[38;5;124m\"\u001b[39m\u001b[38;5;241m.\u001b[39mformat(\n\u001b[0;32m    818\u001b[0m             n_splits, n_candidates, n_candidates \u001b[38;5;241m*\u001b[39m n_splits\n\u001b[0;32m    819\u001b[0m         )\n\u001b[0;32m    820\u001b[0m     )\n\u001b[1;32m--> 822\u001b[0m out \u001b[38;5;241m=\u001b[39m \u001b[43mparallel\u001b[49m\u001b[43m(\u001b[49m\n\u001b[0;32m    823\u001b[0m \u001b[43m    \u001b[49m\u001b[43mdelayed\u001b[49m\u001b[43m(\u001b[49m\u001b[43m_fit_and_score\u001b[49m\u001b[43m)\u001b[49m\u001b[43m(\u001b[49m\n\u001b[0;32m    824\u001b[0m \u001b[43m        \u001b[49m\u001b[43mclone\u001b[49m\u001b[43m(\u001b[49m\u001b[43mbase_estimator\u001b[49m\u001b[43m)\u001b[49m\u001b[43m,\u001b[49m\n\u001b[0;32m    825\u001b[0m \u001b[43m        \u001b[49m\u001b[43mX\u001b[49m\u001b[43m,\u001b[49m\n\u001b[0;32m    826\u001b[0m \u001b[43m        \u001b[49m\u001b[43my\u001b[49m\u001b[43m,\u001b[49m\n\u001b[0;32m    827\u001b[0m \u001b[43m        \u001b[49m\u001b[43mtrain\u001b[49m\u001b[38;5;241;43m=\u001b[39;49m\u001b[43mtrain\u001b[49m\u001b[43m,\u001b[49m\n\u001b[0;32m    828\u001b[0m \u001b[43m        \u001b[49m\u001b[43mtest\u001b[49m\u001b[38;5;241;43m=\u001b[39;49m\u001b[43mtest\u001b[49m\u001b[43m,\u001b[49m\n\u001b[0;32m    829\u001b[0m \u001b[43m        \u001b[49m\u001b[43mparameters\u001b[49m\u001b[38;5;241;43m=\u001b[39;49m\u001b[43mparameters\u001b[49m\u001b[43m,\u001b[49m\n\u001b[0;32m    830\u001b[0m \u001b[43m        \u001b[49m\u001b[43msplit_progress\u001b[49m\u001b[38;5;241;43m=\u001b[39;49m\u001b[43m(\u001b[49m\u001b[43msplit_idx\u001b[49m\u001b[43m,\u001b[49m\u001b[43m \u001b[49m\u001b[43mn_splits\u001b[49m\u001b[43m)\u001b[49m\u001b[43m,\u001b[49m\n\u001b[0;32m    831\u001b[0m \u001b[43m        \u001b[49m\u001b[43mcandidate_progress\u001b[49m\u001b[38;5;241;43m=\u001b[39;49m\u001b[43m(\u001b[49m\u001b[43mcand_idx\u001b[49m\u001b[43m,\u001b[49m\u001b[43m \u001b[49m\u001b[43mn_candidates\u001b[49m\u001b[43m)\u001b[49m\u001b[43m,\u001b[49m\n\u001b[0;32m    832\u001b[0m \u001b[43m        \u001b[49m\u001b[38;5;241;43m*\u001b[39;49m\u001b[38;5;241;43m*\u001b[39;49m\u001b[43mfit_and_score_kwargs\u001b[49m\u001b[43m,\u001b[49m\n\u001b[0;32m    833\u001b[0m \u001b[43m    \u001b[49m\u001b[43m)\u001b[49m\n\u001b[0;32m    834\u001b[0m \u001b[43m    \u001b[49m\u001b[38;5;28;43;01mfor\u001b[39;49;00m\u001b[43m \u001b[49m\u001b[43m(\u001b[49m\u001b[43mcand_idx\u001b[49m\u001b[43m,\u001b[49m\u001b[43m \u001b[49m\u001b[43mparameters\u001b[49m\u001b[43m)\u001b[49m\u001b[43m,\u001b[49m\u001b[43m \u001b[49m\u001b[43m(\u001b[49m\u001b[43msplit_idx\u001b[49m\u001b[43m,\u001b[49m\u001b[43m \u001b[49m\u001b[43m(\u001b[49m\u001b[43mtrain\u001b[49m\u001b[43m,\u001b[49m\u001b[43m \u001b[49m\u001b[43mtest\u001b[49m\u001b[43m)\u001b[49m\u001b[43m)\u001b[49m\u001b[43m \u001b[49m\u001b[38;5;129;43;01min\u001b[39;49;00m\u001b[43m \u001b[49m\u001b[43mproduct\u001b[49m\u001b[43m(\u001b[49m\n\u001b[0;32m    835\u001b[0m \u001b[43m        \u001b[49m\u001b[38;5;28;43menumerate\u001b[39;49m\u001b[43m(\u001b[49m\u001b[43mcandidate_params\u001b[49m\u001b[43m)\u001b[49m\u001b[43m,\u001b[49m\u001b[43m \u001b[49m\u001b[38;5;28;43menumerate\u001b[39;49m\u001b[43m(\u001b[49m\u001b[43mcv\u001b[49m\u001b[38;5;241;43m.\u001b[39;49m\u001b[43msplit\u001b[49m\u001b[43m(\u001b[49m\u001b[43mX\u001b[49m\u001b[43m,\u001b[49m\u001b[43m \u001b[49m\u001b[43my\u001b[49m\u001b[43m,\u001b[49m\u001b[43m \u001b[49m\u001b[43mgroups\u001b[49m\u001b[43m)\u001b[49m\u001b[43m)\u001b[49m\n\u001b[0;32m    836\u001b[0m \u001b[43m    \u001b[49m\u001b[43m)\u001b[49m\n\u001b[0;32m    837\u001b[0m \u001b[43m\u001b[49m\u001b[43m)\u001b[49m\n\u001b[0;32m    839\u001b[0m \u001b[38;5;28;01mif\u001b[39;00m \u001b[38;5;28mlen\u001b[39m(out) \u001b[38;5;241m<\u001b[39m \u001b[38;5;241m1\u001b[39m:\n\u001b[0;32m    840\u001b[0m     \u001b[38;5;28;01mraise\u001b[39;00m \u001b[38;5;167;01mValueError\u001b[39;00m(\n\u001b[0;32m    841\u001b[0m         \u001b[38;5;124m\"\u001b[39m\u001b[38;5;124mNo fits were performed. \u001b[39m\u001b[38;5;124m\"\u001b[39m\n\u001b[0;32m    842\u001b[0m         \u001b[38;5;124m\"\u001b[39m\u001b[38;5;124mWas the CV iterator empty? \u001b[39m\u001b[38;5;124m\"\u001b[39m\n\u001b[0;32m    843\u001b[0m         \u001b[38;5;124m\"\u001b[39m\u001b[38;5;124mWere there no candidates?\u001b[39m\u001b[38;5;124m\"\u001b[39m\n\u001b[0;32m    844\u001b[0m     )\n",
      "File \u001b[1;32mE:\\python\\lib\\site-packages\\joblib\\parallel.py:1043\u001b[0m, in \u001b[0;36mParallel.__call__\u001b[1;34m(self, iterable)\u001b[0m\n\u001b[0;32m   1034\u001b[0m \u001b[38;5;28;01mtry\u001b[39;00m:\n\u001b[0;32m   1035\u001b[0m     \u001b[38;5;66;03m# Only set self._iterating to True if at least a batch\u001b[39;00m\n\u001b[0;32m   1036\u001b[0m     \u001b[38;5;66;03m# was dispatched. In particular this covers the edge\u001b[39;00m\n\u001b[1;32m   (...)\u001b[0m\n\u001b[0;32m   1040\u001b[0m     \u001b[38;5;66;03m# was very quick and its callback already dispatched all the\u001b[39;00m\n\u001b[0;32m   1041\u001b[0m     \u001b[38;5;66;03m# remaining jobs.\u001b[39;00m\n\u001b[0;32m   1042\u001b[0m     \u001b[38;5;28mself\u001b[39m\u001b[38;5;241m.\u001b[39m_iterating \u001b[38;5;241m=\u001b[39m \u001b[38;5;28;01mFalse\u001b[39;00m\n\u001b[1;32m-> 1043\u001b[0m     \u001b[38;5;28;01mif\u001b[39;00m \u001b[38;5;28;43mself\u001b[39;49m\u001b[38;5;241;43m.\u001b[39;49m\u001b[43mdispatch_one_batch\u001b[49m\u001b[43m(\u001b[49m\u001b[43miterator\u001b[49m\u001b[43m)\u001b[49m:\n\u001b[0;32m   1044\u001b[0m         \u001b[38;5;28mself\u001b[39m\u001b[38;5;241m.\u001b[39m_iterating \u001b[38;5;241m=\u001b[39m \u001b[38;5;28mself\u001b[39m\u001b[38;5;241m.\u001b[39m_original_iterator \u001b[38;5;129;01mis\u001b[39;00m \u001b[38;5;129;01mnot\u001b[39;00m \u001b[38;5;28;01mNone\u001b[39;00m\n\u001b[0;32m   1046\u001b[0m     \u001b[38;5;28;01mwhile\u001b[39;00m \u001b[38;5;28mself\u001b[39m\u001b[38;5;241m.\u001b[39mdispatch_one_batch(iterator):\n",
      "File \u001b[1;32mE:\\python\\lib\\site-packages\\joblib\\parallel.py:861\u001b[0m, in \u001b[0;36mParallel.dispatch_one_batch\u001b[1;34m(self, iterator)\u001b[0m\n\u001b[0;32m    859\u001b[0m     \u001b[38;5;28;01mreturn\u001b[39;00m \u001b[38;5;28;01mFalse\u001b[39;00m\n\u001b[0;32m    860\u001b[0m \u001b[38;5;28;01melse\u001b[39;00m:\n\u001b[1;32m--> 861\u001b[0m     \u001b[38;5;28;43mself\u001b[39;49m\u001b[38;5;241;43m.\u001b[39;49m\u001b[43m_dispatch\u001b[49m\u001b[43m(\u001b[49m\u001b[43mtasks\u001b[49m\u001b[43m)\u001b[49m\n\u001b[0;32m    862\u001b[0m     \u001b[38;5;28;01mreturn\u001b[39;00m \u001b[38;5;28;01mTrue\u001b[39;00m\n",
      "File \u001b[1;32mE:\\python\\lib\\site-packages\\joblib\\parallel.py:779\u001b[0m, in \u001b[0;36mParallel._dispatch\u001b[1;34m(self, batch)\u001b[0m\n\u001b[0;32m    777\u001b[0m \u001b[38;5;28;01mwith\u001b[39;00m \u001b[38;5;28mself\u001b[39m\u001b[38;5;241m.\u001b[39m_lock:\n\u001b[0;32m    778\u001b[0m     job_idx \u001b[38;5;241m=\u001b[39m \u001b[38;5;28mlen\u001b[39m(\u001b[38;5;28mself\u001b[39m\u001b[38;5;241m.\u001b[39m_jobs)\n\u001b[1;32m--> 779\u001b[0m     job \u001b[38;5;241m=\u001b[39m \u001b[38;5;28;43mself\u001b[39;49m\u001b[38;5;241;43m.\u001b[39;49m\u001b[43m_backend\u001b[49m\u001b[38;5;241;43m.\u001b[39;49m\u001b[43mapply_async\u001b[49m\u001b[43m(\u001b[49m\u001b[43mbatch\u001b[49m\u001b[43m,\u001b[49m\u001b[43m \u001b[49m\u001b[43mcallback\u001b[49m\u001b[38;5;241;43m=\u001b[39;49m\u001b[43mcb\u001b[49m\u001b[43m)\u001b[49m\n\u001b[0;32m    780\u001b[0m     \u001b[38;5;66;03m# A job can complete so quickly than its callback is\u001b[39;00m\n\u001b[0;32m    781\u001b[0m     \u001b[38;5;66;03m# called before we get here, causing self._jobs to\u001b[39;00m\n\u001b[0;32m    782\u001b[0m     \u001b[38;5;66;03m# grow. To ensure correct results ordering, .insert is\u001b[39;00m\n\u001b[0;32m    783\u001b[0m     \u001b[38;5;66;03m# used (rather than .append) in the following line\u001b[39;00m\n\u001b[0;32m    784\u001b[0m     \u001b[38;5;28mself\u001b[39m\u001b[38;5;241m.\u001b[39m_jobs\u001b[38;5;241m.\u001b[39minsert(job_idx, job)\n",
      "File \u001b[1;32mE:\\python\\lib\\site-packages\\joblib\\_parallel_backends.py:208\u001b[0m, in \u001b[0;36mSequentialBackend.apply_async\u001b[1;34m(self, func, callback)\u001b[0m\n\u001b[0;32m    206\u001b[0m \u001b[38;5;28;01mdef\u001b[39;00m \u001b[38;5;21mapply_async\u001b[39m(\u001b[38;5;28mself\u001b[39m, func, callback\u001b[38;5;241m=\u001b[39m\u001b[38;5;28;01mNone\u001b[39;00m):\n\u001b[0;32m    207\u001b[0m     \u001b[38;5;124;03m\"\"\"Schedule a func to be run\"\"\"\u001b[39;00m\n\u001b[1;32m--> 208\u001b[0m     result \u001b[38;5;241m=\u001b[39m \u001b[43mImmediateResult\u001b[49m\u001b[43m(\u001b[49m\u001b[43mfunc\u001b[49m\u001b[43m)\u001b[49m\n\u001b[0;32m    209\u001b[0m     \u001b[38;5;28;01mif\u001b[39;00m callback:\n\u001b[0;32m    210\u001b[0m         callback(result)\n",
      "File \u001b[1;32mE:\\python\\lib\\site-packages\\joblib\\_parallel_backends.py:572\u001b[0m, in \u001b[0;36mImmediateResult.__init__\u001b[1;34m(self, batch)\u001b[0m\n\u001b[0;32m    569\u001b[0m \u001b[38;5;28;01mdef\u001b[39;00m \u001b[38;5;21m__init__\u001b[39m(\u001b[38;5;28mself\u001b[39m, batch):\n\u001b[0;32m    570\u001b[0m     \u001b[38;5;66;03m# Don't delay the application, to avoid keeping the input\u001b[39;00m\n\u001b[0;32m    571\u001b[0m     \u001b[38;5;66;03m# arguments in memory\u001b[39;00m\n\u001b[1;32m--> 572\u001b[0m     \u001b[38;5;28mself\u001b[39m\u001b[38;5;241m.\u001b[39mresults \u001b[38;5;241m=\u001b[39m \u001b[43mbatch\u001b[49m\u001b[43m(\u001b[49m\u001b[43m)\u001b[49m\n",
      "File \u001b[1;32mE:\\python\\lib\\site-packages\\joblib\\parallel.py:262\u001b[0m, in \u001b[0;36mBatchedCalls.__call__\u001b[1;34m(self)\u001b[0m\n\u001b[0;32m    258\u001b[0m \u001b[38;5;28;01mdef\u001b[39;00m \u001b[38;5;21m__call__\u001b[39m(\u001b[38;5;28mself\u001b[39m):\n\u001b[0;32m    259\u001b[0m     \u001b[38;5;66;03m# Set the default nested backend to self._backend but do not set the\u001b[39;00m\n\u001b[0;32m    260\u001b[0m     \u001b[38;5;66;03m# change the default number of processes to -1\u001b[39;00m\n\u001b[0;32m    261\u001b[0m     \u001b[38;5;28;01mwith\u001b[39;00m parallel_backend(\u001b[38;5;28mself\u001b[39m\u001b[38;5;241m.\u001b[39m_backend, n_jobs\u001b[38;5;241m=\u001b[39m\u001b[38;5;28mself\u001b[39m\u001b[38;5;241m.\u001b[39m_n_jobs):\n\u001b[1;32m--> 262\u001b[0m         \u001b[38;5;28;01mreturn\u001b[39;00m [func(\u001b[38;5;241m*\u001b[39margs, \u001b[38;5;241m*\u001b[39m\u001b[38;5;241m*\u001b[39mkwargs)\n\u001b[0;32m    263\u001b[0m                 \u001b[38;5;28;01mfor\u001b[39;00m func, args, kwargs \u001b[38;5;129;01min\u001b[39;00m \u001b[38;5;28mself\u001b[39m\u001b[38;5;241m.\u001b[39mitems]\n",
      "File \u001b[1;32mE:\\python\\lib\\site-packages\\joblib\\parallel.py:262\u001b[0m, in \u001b[0;36m<listcomp>\u001b[1;34m(.0)\u001b[0m\n\u001b[0;32m    258\u001b[0m \u001b[38;5;28;01mdef\u001b[39;00m \u001b[38;5;21m__call__\u001b[39m(\u001b[38;5;28mself\u001b[39m):\n\u001b[0;32m    259\u001b[0m     \u001b[38;5;66;03m# Set the default nested backend to self._backend but do not set the\u001b[39;00m\n\u001b[0;32m    260\u001b[0m     \u001b[38;5;66;03m# change the default number of processes to -1\u001b[39;00m\n\u001b[0;32m    261\u001b[0m     \u001b[38;5;28;01mwith\u001b[39;00m parallel_backend(\u001b[38;5;28mself\u001b[39m\u001b[38;5;241m.\u001b[39m_backend, n_jobs\u001b[38;5;241m=\u001b[39m\u001b[38;5;28mself\u001b[39m\u001b[38;5;241m.\u001b[39m_n_jobs):\n\u001b[1;32m--> 262\u001b[0m         \u001b[38;5;28;01mreturn\u001b[39;00m [func(\u001b[38;5;241m*\u001b[39margs, \u001b[38;5;241m*\u001b[39m\u001b[38;5;241m*\u001b[39mkwargs)\n\u001b[0;32m    263\u001b[0m                 \u001b[38;5;28;01mfor\u001b[39;00m func, args, kwargs \u001b[38;5;129;01min\u001b[39;00m \u001b[38;5;28mself\u001b[39m\u001b[38;5;241m.\u001b[39mitems]\n",
      "File \u001b[1;32mE:\\python\\lib\\site-packages\\sklearn\\utils\\fixes.py:117\u001b[0m, in \u001b[0;36m_FuncWrapper.__call__\u001b[1;34m(self, *args, **kwargs)\u001b[0m\n\u001b[0;32m    115\u001b[0m \u001b[38;5;28;01mdef\u001b[39;00m \u001b[38;5;21m__call__\u001b[39m(\u001b[38;5;28mself\u001b[39m, \u001b[38;5;241m*\u001b[39margs, \u001b[38;5;241m*\u001b[39m\u001b[38;5;241m*\u001b[39mkwargs):\n\u001b[0;32m    116\u001b[0m     \u001b[38;5;28;01mwith\u001b[39;00m config_context(\u001b[38;5;241m*\u001b[39m\u001b[38;5;241m*\u001b[39m\u001b[38;5;28mself\u001b[39m\u001b[38;5;241m.\u001b[39mconfig):\n\u001b[1;32m--> 117\u001b[0m         \u001b[38;5;28;01mreturn\u001b[39;00m \u001b[38;5;28mself\u001b[39m\u001b[38;5;241m.\u001b[39mfunction(\u001b[38;5;241m*\u001b[39margs, \u001b[38;5;241m*\u001b[39m\u001b[38;5;241m*\u001b[39mkwargs)\n",
      "File \u001b[1;32mE:\\python\\lib\\site-packages\\sklearn\\model_selection\\_validation.py:674\u001b[0m, in \u001b[0;36m_fit_and_score\u001b[1;34m(estimator, X, y, scorer, train, test, verbose, parameters, fit_params, return_train_score, return_parameters, return_n_test_samples, return_times, return_estimator, split_progress, candidate_progress, error_score)\u001b[0m\n\u001b[0;32m    671\u001b[0m     \u001b[38;5;28;01mfor\u001b[39;00m k, v \u001b[38;5;129;01min\u001b[39;00m parameters\u001b[38;5;241m.\u001b[39mitems():\n\u001b[0;32m    672\u001b[0m         cloned_parameters[k] \u001b[38;5;241m=\u001b[39m clone(v, safe\u001b[38;5;241m=\u001b[39m\u001b[38;5;28;01mFalse\u001b[39;00m)\n\u001b[1;32m--> 674\u001b[0m     estimator \u001b[38;5;241m=\u001b[39m estimator\u001b[38;5;241m.\u001b[39mset_params(\u001b[38;5;241m*\u001b[39m\u001b[38;5;241m*\u001b[39mcloned_parameters)\n\u001b[0;32m    676\u001b[0m start_time \u001b[38;5;241m=\u001b[39m time\u001b[38;5;241m.\u001b[39mtime()\n\u001b[0;32m    678\u001b[0m X_train, y_train \u001b[38;5;241m=\u001b[39m _safe_split(estimator, X, y, train)\n",
      "File \u001b[1;32mE:\\python\\lib\\site-packages\\sklearn\\base.py:246\u001b[0m, in \u001b[0;36mBaseEstimator.set_params\u001b[1;34m(self, **params)\u001b[0m\n\u001b[0;32m    244\u001b[0m \u001b[38;5;28;01mif\u001b[39;00m key \u001b[38;5;129;01mnot\u001b[39;00m \u001b[38;5;129;01min\u001b[39;00m valid_params:\n\u001b[0;32m    245\u001b[0m     local_valid_params \u001b[38;5;241m=\u001b[39m \u001b[38;5;28mself\u001b[39m\u001b[38;5;241m.\u001b[39m_get_param_names()\n\u001b[1;32m--> 246\u001b[0m     \u001b[38;5;28;01mraise\u001b[39;00m \u001b[38;5;167;01mValueError\u001b[39;00m(\n\u001b[0;32m    247\u001b[0m         \u001b[38;5;124mf\u001b[39m\u001b[38;5;124m\"\u001b[39m\u001b[38;5;124mInvalid parameter \u001b[39m\u001b[38;5;132;01m{\u001b[39;00mkey\u001b[38;5;132;01m!r}\u001b[39;00m\u001b[38;5;124m for estimator \u001b[39m\u001b[38;5;132;01m{\u001b[39;00m\u001b[38;5;28mself\u001b[39m\u001b[38;5;132;01m}\u001b[39;00m\u001b[38;5;124m. \u001b[39m\u001b[38;5;124m\"\u001b[39m\n\u001b[0;32m    248\u001b[0m         \u001b[38;5;124mf\u001b[39m\u001b[38;5;124m\"\u001b[39m\u001b[38;5;124mValid parameters are: \u001b[39m\u001b[38;5;132;01m{\u001b[39;00mlocal_valid_params\u001b[38;5;132;01m!r}\u001b[39;00m\u001b[38;5;124m.\u001b[39m\u001b[38;5;124m\"\u001b[39m\n\u001b[0;32m    249\u001b[0m     )\n\u001b[0;32m    251\u001b[0m \u001b[38;5;28;01mif\u001b[39;00m delim:\n\u001b[0;32m    252\u001b[0m     nested_params[key][sub_key] \u001b[38;5;241m=\u001b[39m value\n",
      "\u001b[1;31mValueError\u001b[0m: Invalid parameter 'max_features' for estimator SVC(gamma='auto'). Valid parameters are: ['C', 'break_ties', 'cache_size', 'class_weight', 'coef0', 'decision_function_shape', 'degree', 'gamma', 'kernel', 'max_iter', 'probability', 'random_state', 'shrinking', 'tol', 'verbose']."
     ]
    }
   ],
   "source": [
    "rnd_search_cv=RandomizedSearchCV(svm_clf,param_distributions,n_iter=100,verbose\n",
    "                                =2,cv=5,scoring='r2',random_state=42,n_jobs=1)\n",
    "rnd_search_cv.fit(X1_train,y1_train)"
   ]
  },
  {
   "cell_type": "code",
   "execution_count": 67,
   "id": "6ebe86ef",
   "metadata": {},
   "outputs": [
    {
     "ename": "AttributeError",
     "evalue": "'RandomizedSearchCV' object has no attribute 'best_estimator_'",
     "output_type": "error",
     "traceback": [
      "\u001b[1;31m---------------------------------------------------------------------------\u001b[0m",
      "\u001b[1;31mAttributeError\u001b[0m                            Traceback (most recent call last)",
      "Input \u001b[1;32mIn [67]\u001b[0m, in \u001b[0;36m<cell line: 1>\u001b[1;34m()\u001b[0m\n\u001b[1;32m----> 1\u001b[0m accuracy_SVM_train\u001b[38;5;241m=\u001b[39m\u001b[38;5;28msum\u001b[39m(cross_val_score(\u001b[43mrnd_search_cv\u001b[49m\u001b[38;5;241;43m.\u001b[39;49m\u001b[43mbest_estimator_\u001b[49m,X1_train,y1_train,cv\u001b[38;5;241m=\u001b[39m\u001b[38;5;241m10\u001b[39m,scoring\u001b[38;5;241m=\u001b[39m\u001b[38;5;124m\"\u001b[39m\u001b[38;5;124maccuracy\u001b[39m\u001b[38;5;124m\"\u001b[39m))\u001b[38;5;241m/\u001b[39m\u001b[38;5;241m10\u001b[39m\n\u001b[0;32m      2\u001b[0m y1_scores_svm \u001b[38;5;241m=\u001b[39m cross_val_predict(rnd_search_cv\u001b[38;5;241m.\u001b[39mbest_estimator_, X1_train, y1_train, cv\u001b[38;5;241m=\u001b[39m\u001b[38;5;241m3\u001b[39m,method\u001b[38;5;241m=\u001b[39m\u001b[38;5;124m\"\u001b[39m\u001b[38;5;124mdecision_function\u001b[39m\u001b[38;5;124m\"\u001b[39m)\n\u001b[0;32m      3\u001b[0m fpr_svm, tpr_svm, thresholds_svm \u001b[38;5;241m=\u001b[39m roc_curve(y1_train, y1_scores_svm)\n",
      "\u001b[1;31mAttributeError\u001b[0m: 'RandomizedSearchCV' object has no attribute 'best_estimator_'"
     ]
    }
   ],
   "source": [
    "accuracy_SVM_train=sum(cross_val_score(rnd_search_cv.best_estimator_,X1_train,y1_train,cv=10,scoring=\"accuracy\"))/10\n",
    "y1_scores_svm = cross_val_predict(rnd_search_cv.best_estimator_, X1_train, y1_train, cv=3,method=\"decision_function\")\n",
    "fpr_svm, tpr_svm, thresholds_svm = roc_curve(y1_train, y1_scores_svm)\n",
    "SVM_clf_y1=rnd_search_cv.best_estimator_\n",
    "plot_roc_curve(fpr_svm,tpr_svm)\n",
    "plt.show()"
   ]
  },
  {
   "cell_type": "code",
   "execution_count": 31,
   "id": "a71166c7",
   "metadata": {},
   "outputs": [],
   "source": [
    "import joblib"
   ]
  },
  {
   "cell_type": "code",
   "execution_count": 33,
   "id": "ab9916fd",
   "metadata": {},
   "outputs": [
    {
     "data": {
      "text/plain": [
       "['SVM_clf_y5.pkl']"
      ]
     },
     "execution_count": 33,
     "metadata": {},
     "output_type": "execute_result"
    }
   ],
   "source": [
    "joblib.dump(SVM_clf_y1,'SVM_clf_y5.pkl')"
   ]
  },
  {
   "cell_type": "code",
   "execution_count": 74,
   "id": "407f21e4",
   "metadata": {},
   "outputs": [
    {
     "name": "stdout",
     "output_type": "stream",
     "text": [
      "Fitting 3 folds for each of 100 candidates, totalling 300 fits\n"
     ]
    },
    {
     "data": {
      "text/html": [
       "<style>#sk-container-id-5 {color: black;background-color: white;}#sk-container-id-5 pre{padding: 0;}#sk-container-id-5 div.sk-toggleable {background-color: white;}#sk-container-id-5 label.sk-toggleable__label {cursor: pointer;display: block;width: 100%;margin-bottom: 0;padding: 0.3em;box-sizing: border-box;text-align: center;}#sk-container-id-5 label.sk-toggleable__label-arrow:before {content: \"▸\";float: left;margin-right: 0.25em;color: #696969;}#sk-container-id-5 label.sk-toggleable__label-arrow:hover:before {color: black;}#sk-container-id-5 div.sk-estimator:hover label.sk-toggleable__label-arrow:before {color: black;}#sk-container-id-5 div.sk-toggleable__content {max-height: 0;max-width: 0;overflow: hidden;text-align: left;background-color: #f0f8ff;}#sk-container-id-5 div.sk-toggleable__content pre {margin: 0.2em;color: black;border-radius: 0.25em;background-color: #f0f8ff;}#sk-container-id-5 input.sk-toggleable__control:checked~div.sk-toggleable__content {max-height: 200px;max-width: 100%;overflow: auto;}#sk-container-id-5 input.sk-toggleable__control:checked~label.sk-toggleable__label-arrow:before {content: \"▾\";}#sk-container-id-5 div.sk-estimator input.sk-toggleable__control:checked~label.sk-toggleable__label {background-color: #d4ebff;}#sk-container-id-5 div.sk-label input.sk-toggleable__control:checked~label.sk-toggleable__label {background-color: #d4ebff;}#sk-container-id-5 input.sk-hidden--visually {border: 0;clip: rect(1px 1px 1px 1px);clip: rect(1px, 1px, 1px, 1px);height: 1px;margin: -1px;overflow: hidden;padding: 0;position: absolute;width: 1px;}#sk-container-id-5 div.sk-estimator {font-family: monospace;background-color: #f0f8ff;border: 1px dotted black;border-radius: 0.25em;box-sizing: border-box;margin-bottom: 0.5em;}#sk-container-id-5 div.sk-estimator:hover {background-color: #d4ebff;}#sk-container-id-5 div.sk-parallel-item::after {content: \"\";width: 100%;border-bottom: 1px solid gray;flex-grow: 1;}#sk-container-id-5 div.sk-label:hover label.sk-toggleable__label {background-color: #d4ebff;}#sk-container-id-5 div.sk-serial::before {content: \"\";position: absolute;border-left: 1px solid gray;box-sizing: border-box;top: 0;bottom: 0;left: 50%;z-index: 0;}#sk-container-id-5 div.sk-serial {display: flex;flex-direction: column;align-items: center;background-color: white;padding-right: 0.2em;padding-left: 0.2em;position: relative;}#sk-container-id-5 div.sk-item {position: relative;z-index: 1;}#sk-container-id-5 div.sk-parallel {display: flex;align-items: stretch;justify-content: center;background-color: white;position: relative;}#sk-container-id-5 div.sk-item::before, #sk-container-id-5 div.sk-parallel-item::before {content: \"\";position: absolute;border-left: 1px solid gray;box-sizing: border-box;top: 0;bottom: 0;left: 50%;z-index: -1;}#sk-container-id-5 div.sk-parallel-item {display: flex;flex-direction: column;z-index: 1;position: relative;background-color: white;}#sk-container-id-5 div.sk-parallel-item:first-child::after {align-self: flex-end;width: 50%;}#sk-container-id-5 div.sk-parallel-item:last-child::after {align-self: flex-start;width: 50%;}#sk-container-id-5 div.sk-parallel-item:only-child::after {width: 0;}#sk-container-id-5 div.sk-dashed-wrapped {border: 1px dashed gray;margin: 0 0.4em 0.5em 0.4em;box-sizing: border-box;padding-bottom: 0.4em;background-color: white;}#sk-container-id-5 div.sk-label label {font-family: monospace;font-weight: bold;display: inline-block;line-height: 1.2em;}#sk-container-id-5 div.sk-label-container {text-align: center;}#sk-container-id-5 div.sk-container {/* jupyter's `normalize.less` sets `[hidden] { display: none; }` but bootstrap.min.css set `[hidden] { display: none !important; }` so we also need the `!important` here to be able to override the default hidden behavior on the sphinx rendered scikit-learn.org. See: https://github.com/scikit-learn/scikit-learn/issues/21755 */display: inline-block !important;position: relative;}#sk-container-id-5 div.sk-text-repr-fallback {display: none;}</style><div id=\"sk-container-id-5\" class=\"sk-top-container\"><div class=\"sk-text-repr-fallback\"><pre>RandomizedSearchCV(cv=3, estimator=RandomForestClassifier(random_state=42),\n",
       "                   n_iter=100, n_jobs=16,\n",
       "                   param_distributions={&#x27;max_features&#x27;: &lt;scipy.stats._distn_infrastructure.rv_frozen object at 0x0000022840AA6EF0&gt;,\n",
       "                                        &#x27;n_estimators&#x27;: &lt;scipy.stats._distn_infrastructure.rv_frozen object at 0x000002283FF2B3A0&gt;},\n",
       "                   verbose=2)</pre><b>In a Jupyter environment, please rerun this cell to show the HTML representation or trust the notebook. <br />On GitHub, the HTML representation is unable to render, please try loading this page with nbviewer.org.</b></div><div class=\"sk-container\" hidden><div class=\"sk-item sk-dashed-wrapped\"><div class=\"sk-label-container\"><div class=\"sk-label sk-toggleable\"><input class=\"sk-toggleable__control sk-hidden--visually\" id=\"sk-estimator-id-9\" type=\"checkbox\" ><label for=\"sk-estimator-id-9\" class=\"sk-toggleable__label sk-toggleable__label-arrow\">RandomizedSearchCV</label><div class=\"sk-toggleable__content\"><pre>RandomizedSearchCV(cv=3, estimator=RandomForestClassifier(random_state=42),\n",
       "                   n_iter=100, n_jobs=16,\n",
       "                   param_distributions={&#x27;max_features&#x27;: &lt;scipy.stats._distn_infrastructure.rv_frozen object at 0x0000022840AA6EF0&gt;,\n",
       "                                        &#x27;n_estimators&#x27;: &lt;scipy.stats._distn_infrastructure.rv_frozen object at 0x000002283FF2B3A0&gt;},\n",
       "                   verbose=2)</pre></div></div></div><div class=\"sk-parallel\"><div class=\"sk-parallel-item\"><div class=\"sk-item\"><div class=\"sk-label-container\"><div class=\"sk-label sk-toggleable\"><input class=\"sk-toggleable__control sk-hidden--visually\" id=\"sk-estimator-id-10\" type=\"checkbox\" ><label for=\"sk-estimator-id-10\" class=\"sk-toggleable__label sk-toggleable__label-arrow\">estimator: RandomForestClassifier</label><div class=\"sk-toggleable__content\"><pre>RandomForestClassifier(random_state=42)</pre></div></div></div><div class=\"sk-serial\"><div class=\"sk-item\"><div class=\"sk-estimator sk-toggleable\"><input class=\"sk-toggleable__control sk-hidden--visually\" id=\"sk-estimator-id-11\" type=\"checkbox\" ><label for=\"sk-estimator-id-11\" class=\"sk-toggleable__label sk-toggleable__label-arrow\">RandomForestClassifier</label><div class=\"sk-toggleable__content\"><pre>RandomForestClassifier(random_state=42)</pre></div></div></div></div></div></div></div></div></div></div>"
      ],
      "text/plain": [
       "RandomizedSearchCV(cv=3, estimator=RandomForestClassifier(random_state=42),\n",
       "                   n_iter=100, n_jobs=16,\n",
       "                   param_distributions={'max_features': <scipy.stats._distn_infrastructure.rv_frozen object at 0x0000022840AA6EF0>,\n",
       "                                        'n_estimators': <scipy.stats._distn_infrastructure.rv_frozen object at 0x000002283FF2B3A0>},\n",
       "                   verbose=2)"
      ]
     },
     "execution_count": 74,
     "metadata": {},
     "output_type": "execute_result"
    }
   ],
   "source": [
    "forest_clf=RandomForestClassifier(random_state=42)\n",
    "\n",
    "param_distributions={\n",
    "    'n_estimators':randint(low=1,high=200),\n",
    "    'max_features':randint(low=1,high=8)\n",
    "}\n",
    "rnd_search_cv_forest=RandomizedSearchCV(forest_clf,param_distributions,n_iter=100,\n",
    "                                       verbose=2,cv=3,n_jobs=16)\n",
    "rnd_search_cv_forest.fit(X1_train,y1_train)"
   ]
  },
  {
   "cell_type": "code",
   "execution_count": 41,
   "id": "fa3a36ee",
   "metadata": {},
   "outputs": [
    {
     "data": {
      "text/plain": [
       "['forest_clf_y1.pkl']"
      ]
     },
     "execution_count": 41,
     "metadata": {},
     "output_type": "execute_result"
    }
   ],
   "source": [
    "forest_clf_y1=rnd_search_cv_forest.best_estimator_\n",
    "forest_clf_y1\n",
    "joblib.dump(forest_clf_y1,'forest_clf_y1.pkl')"
   ]
  },
  {
   "cell_type": "code",
   "execution_count": 76,
   "id": "2306be64",
   "metadata": {},
   "outputs": [
    {
     "name": "stdout",
     "output_type": "stream",
     "text": [
      "Fitting 3 folds for each of 100 candidates, totalling 300 fits\n"
     ]
    },
    {
     "data": {
      "text/html": [
       "<style>#sk-container-id-6 {color: black;background-color: white;}#sk-container-id-6 pre{padding: 0;}#sk-container-id-6 div.sk-toggleable {background-color: white;}#sk-container-id-6 label.sk-toggleable__label {cursor: pointer;display: block;width: 100%;margin-bottom: 0;padding: 0.3em;box-sizing: border-box;text-align: center;}#sk-container-id-6 label.sk-toggleable__label-arrow:before {content: \"▸\";float: left;margin-right: 0.25em;color: #696969;}#sk-container-id-6 label.sk-toggleable__label-arrow:hover:before {color: black;}#sk-container-id-6 div.sk-estimator:hover label.sk-toggleable__label-arrow:before {color: black;}#sk-container-id-6 div.sk-toggleable__content {max-height: 0;max-width: 0;overflow: hidden;text-align: left;background-color: #f0f8ff;}#sk-container-id-6 div.sk-toggleable__content pre {margin: 0.2em;color: black;border-radius: 0.25em;background-color: #f0f8ff;}#sk-container-id-6 input.sk-toggleable__control:checked~div.sk-toggleable__content {max-height: 200px;max-width: 100%;overflow: auto;}#sk-container-id-6 input.sk-toggleable__control:checked~label.sk-toggleable__label-arrow:before {content: \"▾\";}#sk-container-id-6 div.sk-estimator input.sk-toggleable__control:checked~label.sk-toggleable__label {background-color: #d4ebff;}#sk-container-id-6 div.sk-label input.sk-toggleable__control:checked~label.sk-toggleable__label {background-color: #d4ebff;}#sk-container-id-6 input.sk-hidden--visually {border: 0;clip: rect(1px 1px 1px 1px);clip: rect(1px, 1px, 1px, 1px);height: 1px;margin: -1px;overflow: hidden;padding: 0;position: absolute;width: 1px;}#sk-container-id-6 div.sk-estimator {font-family: monospace;background-color: #f0f8ff;border: 1px dotted black;border-radius: 0.25em;box-sizing: border-box;margin-bottom: 0.5em;}#sk-container-id-6 div.sk-estimator:hover {background-color: #d4ebff;}#sk-container-id-6 div.sk-parallel-item::after {content: \"\";width: 100%;border-bottom: 1px solid gray;flex-grow: 1;}#sk-container-id-6 div.sk-label:hover label.sk-toggleable__label {background-color: #d4ebff;}#sk-container-id-6 div.sk-serial::before {content: \"\";position: absolute;border-left: 1px solid gray;box-sizing: border-box;top: 0;bottom: 0;left: 50%;z-index: 0;}#sk-container-id-6 div.sk-serial {display: flex;flex-direction: column;align-items: center;background-color: white;padding-right: 0.2em;padding-left: 0.2em;position: relative;}#sk-container-id-6 div.sk-item {position: relative;z-index: 1;}#sk-container-id-6 div.sk-parallel {display: flex;align-items: stretch;justify-content: center;background-color: white;position: relative;}#sk-container-id-6 div.sk-item::before, #sk-container-id-6 div.sk-parallel-item::before {content: \"\";position: absolute;border-left: 1px solid gray;box-sizing: border-box;top: 0;bottom: 0;left: 50%;z-index: -1;}#sk-container-id-6 div.sk-parallel-item {display: flex;flex-direction: column;z-index: 1;position: relative;background-color: white;}#sk-container-id-6 div.sk-parallel-item:first-child::after {align-self: flex-end;width: 50%;}#sk-container-id-6 div.sk-parallel-item:last-child::after {align-self: flex-start;width: 50%;}#sk-container-id-6 div.sk-parallel-item:only-child::after {width: 0;}#sk-container-id-6 div.sk-dashed-wrapped {border: 1px dashed gray;margin: 0 0.4em 0.5em 0.4em;box-sizing: border-box;padding-bottom: 0.4em;background-color: white;}#sk-container-id-6 div.sk-label label {font-family: monospace;font-weight: bold;display: inline-block;line-height: 1.2em;}#sk-container-id-6 div.sk-label-container {text-align: center;}#sk-container-id-6 div.sk-container {/* jupyter's `normalize.less` sets `[hidden] { display: none; }` but bootstrap.min.css set `[hidden] { display: none !important; }` so we also need the `!important` here to be able to override the default hidden behavior on the sphinx rendered scikit-learn.org. See: https://github.com/scikit-learn/scikit-learn/issues/21755 */display: inline-block !important;position: relative;}#sk-container-id-6 div.sk-text-repr-fallback {display: none;}</style><div id=\"sk-container-id-6\" class=\"sk-top-container\"><div class=\"sk-text-repr-fallback\"><pre>RandomizedSearchCV(cv=3, estimator=RandomForestClassifier(random_state=42),\n",
       "                   n_iter=100, n_jobs=16,\n",
       "                   param_distributions={&#x27;max_features&#x27;: &lt;scipy.stats._distn_infrastructure.rv_frozen object at 0x0000022840AA6EF0&gt;,\n",
       "                                        &#x27;n_estimators&#x27;: &lt;scipy.stats._distn_infrastructure.rv_frozen object at 0x000002283FF2B3A0&gt;},\n",
       "                   verbose=2)</pre><b>In a Jupyter environment, please rerun this cell to show the HTML representation or trust the notebook. <br />On GitHub, the HTML representation is unable to render, please try loading this page with nbviewer.org.</b></div><div class=\"sk-container\" hidden><div class=\"sk-item sk-dashed-wrapped\"><div class=\"sk-label-container\"><div class=\"sk-label sk-toggleable\"><input class=\"sk-toggleable__control sk-hidden--visually\" id=\"sk-estimator-id-12\" type=\"checkbox\" ><label for=\"sk-estimator-id-12\" class=\"sk-toggleable__label sk-toggleable__label-arrow\">RandomizedSearchCV</label><div class=\"sk-toggleable__content\"><pre>RandomizedSearchCV(cv=3, estimator=RandomForestClassifier(random_state=42),\n",
       "                   n_iter=100, n_jobs=16,\n",
       "                   param_distributions={&#x27;max_features&#x27;: &lt;scipy.stats._distn_infrastructure.rv_frozen object at 0x0000022840AA6EF0&gt;,\n",
       "                                        &#x27;n_estimators&#x27;: &lt;scipy.stats._distn_infrastructure.rv_frozen object at 0x000002283FF2B3A0&gt;},\n",
       "                   verbose=2)</pre></div></div></div><div class=\"sk-parallel\"><div class=\"sk-parallel-item\"><div class=\"sk-item\"><div class=\"sk-label-container\"><div class=\"sk-label sk-toggleable\"><input class=\"sk-toggleable__control sk-hidden--visually\" id=\"sk-estimator-id-13\" type=\"checkbox\" ><label for=\"sk-estimator-id-13\" class=\"sk-toggleable__label sk-toggleable__label-arrow\">estimator: RandomForestClassifier</label><div class=\"sk-toggleable__content\"><pre>RandomForestClassifier(random_state=42)</pre></div></div></div><div class=\"sk-serial\"><div class=\"sk-item\"><div class=\"sk-estimator sk-toggleable\"><input class=\"sk-toggleable__control sk-hidden--visually\" id=\"sk-estimator-id-14\" type=\"checkbox\" ><label for=\"sk-estimator-id-14\" class=\"sk-toggleable__label sk-toggleable__label-arrow\">RandomForestClassifier</label><div class=\"sk-toggleable__content\"><pre>RandomForestClassifier(random_state=42)</pre></div></div></div></div></div></div></div></div></div></div>"
      ],
      "text/plain": [
       "RandomizedSearchCV(cv=3, estimator=RandomForestClassifier(random_state=42),\n",
       "                   n_iter=100, n_jobs=16,\n",
       "                   param_distributions={'max_features': <scipy.stats._distn_infrastructure.rv_frozen object at 0x0000022840AA6EF0>,\n",
       "                                        'n_estimators': <scipy.stats._distn_infrastructure.rv_frozen object at 0x000002283FF2B3A0>},\n",
       "                   verbose=2)"
      ]
     },
     "execution_count": 76,
     "metadata": {},
     "output_type": "execute_result"
    }
   ],
   "source": [
    "rnd_search_cv_forest.fit(X2_train,y2_train)"
   ]
  },
  {
   "cell_type": "code",
   "execution_count": 79,
   "id": "02fb4008",
   "metadata": {},
   "outputs": [
    {
     "data": {
      "text/plain": [
       "['forest_clf_y2.pkl']"
      ]
     },
     "execution_count": 79,
     "metadata": {},
     "output_type": "execute_result"
    }
   ],
   "source": [
    "forest_clf_y2=rnd_search_cv_forest.best_estimator_\n",
    "joblib.dump(forest_clf_y2,'forest_clf_y2.pkl')"
   ]
  },
  {
   "cell_type": "code",
   "execution_count": 80,
   "id": "a9df07ac",
   "metadata": {},
   "outputs": [
    {
     "name": "stdout",
     "output_type": "stream",
     "text": [
      "Fitting 3 folds for each of 100 candidates, totalling 300 fits\n"
     ]
    },
    {
     "data": {
      "text/plain": [
       "['forest_clf_y3.pkl']"
      ]
     },
     "execution_count": 80,
     "metadata": {},
     "output_type": "execute_result"
    }
   ],
   "source": [
    "rnd_search_cv_forest.fit(X3_train,y3_train)\n",
    "forest_clf_y3=rnd_search_cv_forest.best_estimator_\n",
    "joblib.dump(forest_clf_y3,'forest_clf_y3.pkl')"
   ]
  },
  {
   "cell_type": "code",
   "execution_count": 81,
   "id": "f9f341b0",
   "metadata": {},
   "outputs": [
    {
     "name": "stdout",
     "output_type": "stream",
     "text": [
      "Fitting 3 folds for each of 100 candidates, totalling 300 fits\n"
     ]
    },
    {
     "data": {
      "text/plain": [
       "['forest_clf_y4.pkl']"
      ]
     },
     "execution_count": 81,
     "metadata": {},
     "output_type": "execute_result"
    }
   ],
   "source": [
    "rnd_search_cv_forest.fit(X4_train,y4_train)\n",
    "forest_clf_y4=rnd_search_cv_forest.best_estimator_\n",
    "joblib.dump(forest_clf_y4,'forest_clf_y4.pkl')"
   ]
  },
  {
   "cell_type": "code",
   "execution_count": 82,
   "id": "aa4a72c4",
   "metadata": {},
   "outputs": [
    {
     "name": "stdout",
     "output_type": "stream",
     "text": [
      "Fitting 3 folds for each of 100 candidates, totalling 300 fits\n"
     ]
    },
    {
     "data": {
      "text/plain": [
       "['forest_clf_y5.pkl']"
      ]
     },
     "execution_count": 82,
     "metadata": {},
     "output_type": "execute_result"
    }
   ],
   "source": [
    "rnd_search_cv_forest.fit(X5_train,y5_train)\n",
    "forest_clf_y5=rnd_search_cv_forest.best_estimator_\n",
    "joblib.dump(forest_clf_y5,'forest_clf_y5.pkl')"
   ]
  },
  {
   "cell_type": "code",
   "execution_count": null,
   "id": "e40b3cd1",
   "metadata": {},
   "outputs": [],
   "source": []
  }
 ],
 "metadata": {
  "kernelspec": {
   "display_name": "Python 3 (ipykernel)",
   "language": "python",
   "name": "python3"
  },
  "language_info": {
   "codemirror_mode": {
    "name": "ipython",
    "version": 3
   },
   "file_extension": ".py",
   "mimetype": "text/x-python",
   "name": "python",
   "nbconvert_exporter": "python",
   "pygments_lexer": "ipython3",
   "version": "3.10.4"
  }
 },
 "nbformat": 4,
 "nbformat_minor": 5
}
